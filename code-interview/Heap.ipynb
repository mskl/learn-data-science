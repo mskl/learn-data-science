{
 "cells": [
  {
   "cell_type": "markdown",
   "metadata": {},
   "source": [
    "There are no gaps, it makes sense to store it in an array (but tree would also be possible)."
   ]
  },
  {
   "cell_type": "code",
   "execution_count": 5,
   "metadata": {
    "ExecuteTime": {
     "end_time": "2020-02-22T22:07:45.956398Z",
     "start_time": "2020-02-22T22:07:45.949469Z"
    }
   },
   "outputs": [],
   "source": [
    "class Heap:\n",
    "    def __init__(self):\n",
    "        self.array = []\n",
    "        \n",
    "    def insert(self, value):\n",
    "        self.array.append(value)\n",
    "        \n",
    "        # Bubble up from the last index\n",
    "        self.bubbleup(len(self.array)-1)\n",
    "        \n",
    "    def bubbleup(self, index):\n",
    "        while index is not 0:\n",
    "            # Parent's index is |_i/2_|\n",
    "            parent_index = index // 2\n",
    "            \n",
    "            if self.array[parent_index] > self.array[index]:\n",
    "                # Swap values if not correctly ordered\n",
    "                self.array[parent_index], self.array[index] = self.array[index], self.array[parent_index]\n",
    "            else:\n",
    "                # End bubbling up if correct\n",
    "                break\n",
    "                \n",
    "            index = parent_index\n",
    "            \n",
    "    def pop_root(self):\n",
    "        # Save the root's value\n",
    "        min_val = self.array[0]\n",
    "    \n",
    "        # Replace the root\n",
    "        self.array[0] = self.array.pop()\n",
    "        \n",
    "        index = 0\n",
    "        \n",
    "        # Bubble down from root\n",
    "        while True:\n",
    "            l_index = 2*(index + 1)\n",
    "            r_index = 2*(index + 1) - 1\n",
    "            \n",
    "            \n",
    "        \n",
    "        "
   ]
  },
  {
   "cell_type": "code",
   "execution_count": 7,
   "metadata": {
    "ExecuteTime": {
     "end_time": "2020-02-22T22:08:14.067478Z",
     "start_time": "2020-02-22T22:08:14.063661Z"
    }
   },
   "outputs": [],
   "source": [
    "h = Heap()\n",
    "h.insert(1)\n",
    "h.insert(4)\n",
    "h.insert(2)\n",
    "h.insert(7)"
   ]
  },
  {
   "cell_type": "code",
   "execution_count": 8,
   "metadata": {
    "ExecuteTime": {
     "end_time": "2020-02-22T22:08:18.648813Z",
     "start_time": "2020-02-22T22:08:18.643846Z"
    }
   },
   "outputs": [
    {
     "data": {
      "text/plain": [
       "[1, 2, 4, 7]"
      ]
     },
     "execution_count": 8,
     "metadata": {},
     "output_type": "execute_result"
    }
   ],
   "source": [
    "h.array"
   ]
  },
  {
   "cell_type": "code",
   "execution_count": null,
   "metadata": {},
   "outputs": [],
   "source": []
  }
 ],
 "metadata": {
  "kernelspec": {
   "display_name": "Python 3",
   "language": "python",
   "name": "python3"
  },
  "language_info": {
   "codemirror_mode": {
    "name": "ipython",
    "version": 3
   },
   "file_extension": ".py",
   "mimetype": "text/x-python",
   "name": "python",
   "nbconvert_exporter": "python",
   "pygments_lexer": "ipython3",
   "version": "3.7.6"
  }
 },
 "nbformat": 4,
 "nbformat_minor": 4
}
