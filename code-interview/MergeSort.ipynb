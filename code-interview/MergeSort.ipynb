{
 "cells": [
  {
   "cell_type": "code",
   "execution_count": 8,
   "metadata": {
    "ExecuteTime": {
     "end_time": "2020-02-23T17:59:07.287715Z",
     "start_time": "2020-02-23T17:59:07.278632Z"
    }
   },
   "outputs": [],
   "source": [
    "def merge(arr1, arr2):\n",
    "    res = []\n",
    "    i1, i2 = 0, 0\n",
    "    while i1 < len(arr1) and i2 < len(arr2):\n",
    "        if arr1[i1] < arr2[i2]:\n",
    "            res.append(arr1[i1])\n",
    "            i1 = i1 + 1\n",
    "        else:\n",
    "            res.append(arr2[i2])\n",
    "            i2 = i2 + 1\n",
    "            \n",
    "    # Finish the remaining elements\n",
    "    while i1 != len(arr1):\n",
    "        res.append(arr1[i1])\n",
    "        i1 = i1 + 1\n",
    "    \n",
    "    while i2 != len(arr2):\n",
    "        res.append(arr2[i2])\n",
    "        i2 = i2 + 1\n",
    "    \n",
    "    return res\n",
    "\n",
    "    \n",
    "assert merge([1, 4, 5], [3, 7, 8]) == [1, 3, 4, 5, 7, 8]\n",
    "assert merge([1], [3]) == [1, 3]\n",
    "assert merge([], [3]) == [3]"
   ]
  },
  {
   "cell_type": "code",
   "execution_count": 12,
   "metadata": {
    "ExecuteTime": {
     "end_time": "2020-02-23T18:03:43.858104Z",
     "start_time": "2020-02-23T18:03:43.851903Z"
    }
   },
   "outputs": [],
   "source": [
    "def merge_sort(arr):\n",
    "    if len(arr) is 1:\n",
    "        return arr\n",
    "    \n",
    "    split = len(arr) // 2\n",
    "    \n",
    "    return merge(merge_sort(arr[:split]), \n",
    "                 merge_sort(arr[split:]))\n",
    "\n",
    "assert merge_sort([1, 4, 2, 3]) == [1, 2, 3, 4]\n",
    "assert merge_sort([1]) == [1]\n",
    "assert merge_sort([5, 6, -3, 0]) == [-3, 0, 5, 6]"
   ]
  }
 ],
 "metadata": {
  "kernelspec": {
   "display_name": "Python 3",
   "language": "python",
   "name": "python3"
  },
  "language_info": {
   "codemirror_mode": {
    "name": "ipython",
    "version": 3
   },
   "file_extension": ".py",
   "mimetype": "text/x-python",
   "name": "python",
   "nbconvert_exporter": "python",
   "pygments_lexer": "ipython3",
   "version": "3.7.6"
  }
 },
 "nbformat": 4,
 "nbformat_minor": 4
}
