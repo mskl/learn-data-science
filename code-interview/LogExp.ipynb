{
 "cells": [
  {
   "cell_type": "code",
   "execution_count": 7,
   "metadata": {
    "ExecuteTime": {
     "end_time": "2020-02-24T20:52:10.245535Z",
     "start_time": "2020-02-24T20:52:10.241760Z"
    }
   },
   "outputs": [],
   "source": [
    "def exp_slow(x, n):\n",
    "    res = x\n",
    "    for i in range(n-1):\n",
    "        res = res*x\n",
    "        \n",
    "    return res"
   ]
  },
  {
   "cell_type": "code",
   "execution_count": 10,
   "metadata": {
    "ExecuteTime": {
     "end_time": "2020-02-24T20:52:31.636803Z",
     "start_time": "2020-02-24T20:52:31.632546Z"
    }
   },
   "outputs": [],
   "source": [
    "def exp_fast(x, n):\n",
    "    if n is 0:\n",
    "        return 1\n",
    "    \n",
    "    t = exp(x, n//2)\n",
    "    \n",
    "    if n % 2 == 0:\n",
    "        return t*t\n",
    "    else:\n",
    "        return t*t*x"
   ]
  },
  {
   "cell_type": "code",
   "execution_count": 17,
   "metadata": {
    "ExecuteTime": {
     "end_time": "2020-02-24T20:53:46.074648Z",
     "start_time": "2020-02-24T20:53:46.071451Z"
    }
   },
   "outputs": [],
   "source": [
    "assert exp_slow(13, 29) == exp_fast(13, 29)"
   ]
  },
  {
   "cell_type": "code",
   "execution_count": 20,
   "metadata": {
    "ExecuteTime": {
     "end_time": "2020-02-24T20:54:15.193204Z",
     "start_time": "2020-02-24T20:54:13.014001Z"
    }
   },
   "outputs": [
    {
     "name": "stdout",
     "output_type": "stream",
     "text": [
      "2.55 µs ± 213 ns per loop (mean ± std. dev. of 7 runs, 100000 loops each)\n"
     ]
    }
   ],
   "source": [
    "%timeit exp_slow(15, 29)"
   ]
  },
  {
   "cell_type": "code",
   "execution_count": 18,
   "metadata": {
    "ExecuteTime": {
     "end_time": "2020-02-24T20:54:05.690064Z",
     "start_time": "2020-02-24T20:53:53.277879Z"
    }
   },
   "outputs": [
    {
     "name": "stdout",
     "output_type": "stream",
     "text": [
      "1.52 µs ± 14.8 ns per loop (mean ± std. dev. of 7 runs, 1000000 loops each)\n"
     ]
    }
   ],
   "source": [
    "%timeit exp_fast(15, 29)"
   ]
  },
  {
   "cell_type": "code",
   "execution_count": 19,
   "metadata": {
    "ExecuteTime": {
     "end_time": "2020-02-24T20:54:13.011088Z",
     "start_time": "2020-02-24T20:54:05.692397Z"
    }
   },
   "outputs": [
    {
     "name": "stdout",
     "output_type": "stream",
     "text": [
      "8.99 ns ± 0.0537 ns per loop (mean ± std. dev. of 7 runs, 100000000 loops each)\n"
     ]
    }
   ],
   "source": [
    "%timeit 15**29"
   ]
  }
 ],
 "metadata": {
  "kernelspec": {
   "display_name": "Python 3",
   "language": "python",
   "name": "python3"
  },
  "language_info": {
   "codemirror_mode": {
    "name": "ipython",
    "version": 3
   },
   "file_extension": ".py",
   "mimetype": "text/x-python",
   "name": "python",
   "nbconvert_exporter": "python",
   "pygments_lexer": "ipython3",
   "version": "3.7.6"
  }
 },
 "nbformat": 4,
 "nbformat_minor": 4
}
