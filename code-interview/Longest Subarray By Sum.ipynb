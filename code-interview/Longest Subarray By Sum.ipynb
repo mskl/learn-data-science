{
 "cells": [
  {
   "cell_type": "code",
   "execution_count": 5,
   "metadata": {
    "ExecuteTime": {
     "end_time": "2020-02-26T21:43:43.964226Z",
     "start_time": "2020-02-26T21:43:43.957054Z"
    }
   },
   "outputs": [],
   "source": [
    "def get_array(arr=[1, 2, 3, 7, 5], s=12):\n",
    "    cumsum = arr[0]\n",
    "    \n",
    "    m1, m2 = 0, 0 # maximum's ptr indexes\n",
    "    p1, p2 = 0, 0 # current ptr indexes \n",
    "    \n",
    "    # While both pointers can move\n",
    "    while True:\n",
    "        if cumsum == s and abs(p1 - p2) > abs(m1 - m2):\n",
    "            m1, m2 = p1, p2\n",
    "                \n",
    "        # Move the left pointer if cumsum is too large\n",
    "        if cumsum >= s:\n",
    "            cumsum = cumsum - arr[p1]\n",
    "            p1 = p1+1\n",
    "            \n",
    "            # p1 array overflow\n",
    "            if p1 == len(arr) - 1:\n",
    "                return m1, m2\n",
    "        elif cumsum < s:\n",
    "            p2 = p2+1\n",
    "            \n",
    "            # p2 array overflow\n",
    "            if p2 == len(arr):\n",
    "                return m1, m2\n",
    "            \n",
    "            cumsum = cumsum + arr[p2]        "
   ]
  },
  {
   "cell_type": "code",
   "execution_count": 6,
   "metadata": {
    "ExecuteTime": {
     "end_time": "2020-02-26T21:43:44.148716Z",
     "start_time": "2020-02-26T21:43:44.143735Z"
    }
   },
   "outputs": [
    {
     "data": {
      "text/plain": [
       "(1, 3)"
      ]
     },
     "execution_count": 6,
     "metadata": {},
     "output_type": "execute_result"
    }
   ],
   "source": [
    "get_array()"
   ]
  }
 ],
 "metadata": {
  "kernelspec": {
   "display_name": "Python 3",
   "language": "python",
   "name": "python3"
  },
  "language_info": {
   "codemirror_mode": {
    "name": "ipython",
    "version": 3
   },
   "file_extension": ".py",
   "mimetype": "text/x-python",
   "name": "python",
   "nbconvert_exporter": "python",
   "pygments_lexer": "ipython3",
   "version": "3.7.6"
  }
 },
 "nbformat": 4,
 "nbformat_minor": 4
}
