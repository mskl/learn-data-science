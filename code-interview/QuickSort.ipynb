{
 "cells": [
  {
   "cell_type": "code",
   "execution_count": 6,
   "metadata": {
    "ExecuteTime": {
     "end_time": "2020-02-23T18:13:00.492812Z",
     "start_time": "2020-02-23T18:13:00.486073Z"
    }
   },
   "outputs": [],
   "source": [
    "def quicksort(arr):\n",
    "    if len(arr) is 1:\n",
    "        return arr\n",
    "    \n",
    "    # Select some element, ideally median\n",
    "    pivot = (arr[0] + arr[-1]) // 2\n",
    "    \n",
    "    L, P, R = [], [], []\n",
    "    for _ in arr:\n",
    "        if _ < pivot:\n",
    "            L.append(_)\n",
    "        elif _ == pivot:\n",
    "            P.append(_)\n",
    "        else:\n",
    "            R.append(_)\n",
    "    \n",
    "    return quicksort(L) + P + quicksort(R)\n",
    "\n",
    "assert quicksort([9, 4, 2, 7]) == [2, 4, 7, 9]"
   ]
  },
  {
   "cell_type": "code",
   "execution_count": null,
   "metadata": {},
   "outputs": [],
   "source": []
  }
 ],
 "metadata": {
  "kernelspec": {
   "display_name": "Python 3",
   "language": "python",
   "name": "python3"
  },
  "language_info": {
   "codemirror_mode": {
    "name": "ipython",
    "version": 3
   },
   "file_extension": ".py",
   "mimetype": "text/x-python",
   "name": "python",
   "nbconvert_exporter": "python",
   "pygments_lexer": "ipython3",
   "version": "3.7.6"
  }
 },
 "nbformat": 4,
 "nbformat_minor": 4
}
