{
 "cells": [
  {
   "cell_type": "code",
   "execution_count": 15,
   "metadata": {
    "ExecuteTime": {
     "end_time": "2020-02-23T18:16:40.586342Z",
     "start_time": "2020-02-23T18:16:40.582298Z"
    }
   },
   "outputs": [],
   "source": [
    "def naive_fib(i):\n",
    "    if i <= 2:\n",
    "        return 1\n",
    "    \n",
    "    return naive_fib(i-1) + naive_fib(i-2)\n",
    "\n",
    "assert naive_fib(10) == 55"
   ]
  },
  {
   "cell_type": "code",
   "execution_count": 30,
   "metadata": {
    "ExecuteTime": {
     "end_time": "2020-02-23T18:25:33.144486Z",
     "start_time": "2020-02-23T18:25:33.137408Z"
    }
   },
   "outputs": [],
   "source": [
    "def memo_fib(i, memtable=None):\n",
    "    # Initialize the memtable\n",
    "    if memtable is None:\n",
    "        memtable = [None] * (i + 1)\n",
    "        \n",
    "    # Stopping case\n",
    "    if i <= 2:\n",
    "        return 1\n",
    "    \n",
    "    m1, m2 = None, None\n",
    "\n",
    "    # Check for cached data\n",
    "    if memtable[i-1] is not None:\n",
    "        m1 = memtable[i-1]\n",
    "    else:\n",
    "        m1 = memo_fib(i-1, memtable)\n",
    "    \n",
    "    if memtable[i-2] is not None:\n",
    "        m2 = memtable[i-2]\n",
    "    else:\n",
    "        m2 = memo_fib(i-2, memtable)\n",
    "\n",
    "    memtable[i] = m1 + m2\n",
    "    return memtable[i]\n",
    "\n",
    "assert memo_fib(10) == 55"
   ]
  },
  {
   "cell_type": "code",
   "execution_count": 39,
   "metadata": {
    "ExecuteTime": {
     "end_time": "2020-02-23T18:28:49.655511Z",
     "start_time": "2020-02-23T18:28:49.649601Z"
    }
   },
   "outputs": [],
   "source": [
    "def iter_fib(i, memtable=None):\n",
    "    # Initialize the memtable\n",
    "    if memtable is None:\n",
    "        memtable = [None] * (i + 1)\n",
    "\n",
    "    memtable[0], memtable[1], memtable[2] = 1, 1, 1\n",
    "    \n",
    "    for j in range(3, i+1):\n",
    "        memtable[j] = memtable[j-1] + memtable[j-2]\n",
    "    \n",
    "    return memtable[i]\n",
    "\n",
    "assert iter_fib(10) == 55"
   ]
  },
  {
   "cell_type": "code",
   "execution_count": 41,
   "metadata": {
    "ExecuteTime": {
     "end_time": "2020-02-23T18:29:27.870783Z",
     "start_time": "2020-02-23T18:29:05.609280Z"
    }
   },
   "outputs": [
    {
     "name": "stdout",
     "output_type": "stream",
     "text": [
      "178 µs ± 292 ns per loop (mean ± std. dev. of 7 runs, 10000 loops each)\n",
      "6.69 µs ± 17.1 ns per loop (mean ± std. dev. of 7 runs, 100000 loops each)\n",
      "2.85 µs ± 24.8 ns per loop (mean ± std. dev. of 7 runs, 100000 loops each)\n"
     ]
    }
   ],
   "source": [
    "%timeit naive_fib(15)\n",
    "%timeit memo_fib(15)\n",
    "%timeit iter_fib(15)"
   ]
  }
 ],
 "metadata": {
  "kernelspec": {
   "display_name": "Python 3",
   "language": "python",
   "name": "python3"
  },
  "language_info": {
   "codemirror_mode": {
    "name": "ipython",
    "version": 3
   },
   "file_extension": ".py",
   "mimetype": "text/x-python",
   "name": "python",
   "nbconvert_exporter": "python",
   "pygments_lexer": "ipython3",
   "version": "3.7.6"
  }
 },
 "nbformat": 4,
 "nbformat_minor": 4
}
