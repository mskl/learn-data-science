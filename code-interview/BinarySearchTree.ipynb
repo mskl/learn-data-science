{
 "cells": [
  {
   "cell_type": "code",
   "execution_count": 46,
   "metadata": {
    "ExecuteTime": {
     "end_time": "2020-02-22T17:57:35.478609Z",
     "start_time": "2020-02-22T17:57:35.468411Z"
    }
   },
   "outputs": [],
   "source": [
    "class Node:\n",
    "    def __init__(self, value):\n",
    "        self.left = None\n",
    "        self.right = None\n",
    "        self.value = value\n",
    "    \n",
    "    def insert(self, value):\n",
    "        if self.value > value:\n",
    "            if self.left is None:\n",
    "                self.left = Node(value)\n",
    "            else:\n",
    "                self.left.insert(value)\n",
    "        elif self.value < value:\n",
    "            if self.right is None:\n",
    "                self.right = Node(value)\n",
    "            else:\n",
    "                self.right.insert(value)\n",
    "                \n",
    "    def show(self):\n",
    "        \"\"\" Print the tree inorder. \"\"\"\n",
    "        if self.left is not None and self.right is not None:\n",
    "            return self.left.show() + \" \" + str(self.value) + \" \" + self.right.show()\n",
    "        elif self.left is not None:\n",
    "            return self.left.show() + \" \" + str(self.value)\n",
    "        elif self.right is not None:\n",
    "            return str(self.value) + \" \" + self.right.show()\n",
    "        else:\n",
    "            return str(self.value)"
   ]
  },
  {
   "cell_type": "code",
   "execution_count": 47,
   "metadata": {
    "ExecuteTime": {
     "end_time": "2020-02-22T17:57:35.782278Z",
     "start_time": "2020-02-22T17:57:35.778437Z"
    }
   },
   "outputs": [],
   "source": [
    "root = Node(5)\n",
    "root.insert(2)\n",
    "root.insert(6)\n",
    "root.insert(3)"
   ]
  },
  {
   "cell_type": "code",
   "execution_count": 48,
   "metadata": {
    "ExecuteTime": {
     "end_time": "2020-02-22T17:57:36.206875Z",
     "start_time": "2020-02-22T17:57:36.202532Z"
    }
   },
   "outputs": [
    {
     "data": {
      "text/plain": [
       "'2 3 5 6'"
      ]
     },
     "execution_count": 48,
     "metadata": {},
     "output_type": "execute_result"
    }
   ],
   "source": [
    "root.show()"
   ]
  }
 ],
 "metadata": {
  "kernelspec": {
   "display_name": "Python 3",
   "language": "python",
   "name": "python3"
  },
  "language_info": {
   "codemirror_mode": {
    "name": "ipython",
    "version": 3
   },
   "file_extension": ".py",
   "mimetype": "text/x-python",
   "name": "python",
   "nbconvert_exporter": "python",
   "pygments_lexer": "ipython3",
   "version": "3.7.6"
  }
 },
 "nbformat": 4,
 "nbformat_minor": 4
}
