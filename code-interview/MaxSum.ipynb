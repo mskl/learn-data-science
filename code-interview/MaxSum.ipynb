{
 "cells": [
  {
   "cell_type": "code",
   "execution_count": 1,
   "metadata": {
    "ExecuteTime": {
     "end_time": "2020-02-21T11:00:22.498942Z",
     "start_time": "2020-02-21T11:00:22.347774Z"
    }
   },
   "outputs": [],
   "source": [
    "import numpy as np"
   ]
  },
  {
   "cell_type": "code",
   "execution_count": 23,
   "metadata": {
    "ExecuteTime": {
     "end_time": "2020-02-21T11:03:46.004032Z",
     "start_time": "2020-02-21T11:03:46.000601Z"
    }
   },
   "outputs": [],
   "source": [
    "arr = np.random.randint(-5, 6, 100)"
   ]
  },
  {
   "cell_type": "code",
   "execution_count": 69,
   "metadata": {
    "ExecuteTime": {
     "end_time": "2020-02-21T11:11:44.222121Z",
     "start_time": "2020-02-21T11:11:44.162460Z"
    }
   },
   "outputs": [
    {
     "data": {
      "text/plain": [
       "24"
      ]
     },
     "execution_count": 69,
     "metadata": {},
     "output_type": "execute_result"
    }
   ],
   "source": [
    "def MaxSoucet1(arr):\n",
    "    \"\"\" Naive solution O(N^3)\"\"\"\n",
    "    max_sum = 0\n",
    "    for i in range(len(arr)):\n",
    "        for j in range(i, len(arr)):\n",
    "            s = 0\n",
    "            for k in range(i, j):\n",
    "                s = s + arr[k]\n",
    "            max_sum = max(max_sum, s)\n",
    "    return max_sum\n",
    "\n",
    "MaxSoucet1(arr)"
   ]
  },
  {
   "cell_type": "code",
   "execution_count": 77,
   "metadata": {
    "ExecuteTime": {
     "end_time": "2020-02-21T11:22:57.511783Z",
     "start_time": "2020-02-21T11:22:57.501438Z"
    }
   },
   "outputs": [
    {
     "data": {
      "text/plain": [
       "24"
      ]
     },
     "execution_count": 77,
     "metadata": {},
     "output_type": "execute_result"
    }
   ],
   "source": [
    "def MaxSoucet2(arr):\n",
    "    \"\"\" Better solution O(N^2)\"\"\"\n",
    "    max_sum = 0\n",
    "    for i in range(len(arr)):\n",
    "        row_sum = 0\n",
    "        for j in range(i, len(arr)):\n",
    "            row_sum = row_sum + arr[j]\n",
    "            max_sum = max(max_sum, row_sum)\n",
    "    return max_sum\n",
    "\n",
    "MaxSoucet2(arr)"
   ]
  },
  {
   "cell_type": "code",
   "execution_count": 78,
   "metadata": {
    "ExecuteTime": {
     "end_time": "2020-02-21T11:23:29.267309Z",
     "start_time": "2020-02-21T11:23:29.260471Z"
    }
   },
   "outputs": [
    {
     "data": {
      "text/plain": [
       "24"
      ]
     },
     "execution_count": 78,
     "metadata": {},
     "output_type": "execute_result"
    }
   ],
   "source": [
    "def MaxSoucet3(arr):\n",
    "    \"\"\" Solution in linear time O(N^1) \"\"\"\n",
    "    s = 0\n",
    "    res = 0\n",
    "    for i in range(len(arr)):\n",
    "        s = max(0, s + arr[i])\n",
    "        res = max(s, res)\n",
    "    return res\n",
    "\n",
    "MaxSoucet3(arr)"
   ]
  },
  {
   "cell_type": "code",
   "execution_count": 80,
   "metadata": {
    "ExecuteTime": {
     "end_time": "2020-02-21T11:24:11.276886Z",
     "start_time": "2020-02-21T11:23:57.282417Z"
    }
   },
   "outputs": [
    {
     "name": "stdout",
     "output_type": "stream",
     "text": [
      "49.1 ms ± 210 µs per loop (mean ± std. dev. of 7 runs, 10 loops each)\n",
      "2.56 ms ± 23.8 µs per loop (mean ± std. dev. of 7 runs, 100 loops each)\n",
      "97.4 µs ± 459 ns per loop (mean ± std. dev. of 7 runs, 10000 loops each)\n"
     ]
    }
   ],
   "source": [
    "%timeit MaxSoucet1(arr)\n",
    "%timeit MaxSoucet2(arr)\n",
    "%timeit MaxSoucet3(arr)"
   ]
  }
 ],
 "metadata": {
  "kernelspec": {
   "display_name": "Python 3",
   "language": "python",
   "name": "python3"
  },
  "language_info": {
   "codemirror_mode": {
    "name": "ipython",
    "version": 3
   },
   "file_extension": ".py",
   "mimetype": "text/x-python",
   "name": "python",
   "nbconvert_exporter": "python",
   "pygments_lexer": "ipython3",
   "version": "3.7.6"
  }
 },
 "nbformat": 4,
 "nbformat_minor": 4
}
