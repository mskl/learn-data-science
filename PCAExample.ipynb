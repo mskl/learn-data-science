{
 "cells": [
  {
   "cell_type": "code",
   "execution_count": 1,
   "metadata": {
    "ExecuteTime": {
     "end_time": "2020-01-10T20:58:35.800931Z",
     "start_time": "2020-01-10T20:58:34.823376Z"
    }
   },
   "outputs": [],
   "source": [
    "import numpy as np\n",
    "import pandas as pd"
   ]
  },
  {
   "cell_type": "markdown",
   "metadata": {},
   "source": [
    "Given the covariance matrix M and eigenvectors u1, u2, and u3"
   ]
  },
  {
   "cell_type": "code",
   "execution_count": 20,
   "metadata": {
    "ExecuteTime": {
     "end_time": "2020-01-10T21:05:39.354170Z",
     "start_time": "2020-01-10T21:05:39.350817Z"
    }
   },
   "outputs": [],
   "source": [
    "M = np.mat([[91.43,  171.92, 297.99 ],\n",
    "            [171.92, 373.92, 545.21 ],\n",
    "            [297.99, 545.21, 1297.26]])"
   ]
  },
  {
   "cell_type": "code",
   "execution_count": 21,
   "metadata": {
    "ExecuteTime": {
     "end_time": "2020-01-10T21:05:39.762392Z",
     "start_time": "2020-01-10T21:05:39.758598Z"
    }
   },
   "outputs": [],
   "source": [
    "u1 = np.mat([0.22, 0.41, 0.88])\n",
    "u2 = np.mat([0.25, 0.85, -0.46])\n",
    "u3 = np.mat([0.94, -0.32, -0.08])"
   ]
  },
  {
   "cell_type": "markdown",
   "metadata": {},
   "source": [
    "eigenvalues l1, l2, l3"
   ]
  },
  {
   "cell_type": "code",
   "execution_count": 28,
   "metadata": {
    "ExecuteTime": {
     "end_time": "2020-01-10T21:10:37.173435Z",
     "start_time": "2020-01-10T21:10:37.168367Z"
    }
   },
   "outputs": [
    {
     "data": {
      "text/plain": [
       "matrix([[1603.78636364],\n",
       "        [1636.37658537],\n",
       "        [1625.77579545]])"
      ]
     },
     "execution_count": 28,
     "metadata": {},
     "output_type": "execute_result"
    }
   ],
   "source": [
    "(M*u1.T)/u1.T"
   ]
  },
  {
   "cell_type": "code",
   "execution_count": 29,
   "metadata": {
    "ExecuteTime": {
     "end_time": "2020-01-10T21:10:37.339559Z",
     "start_time": "2020-01-10T21:10:37.334925Z"
    }
   },
   "outputs": [
    {
     "data": {
      "text/plain": [
       "matrix([[127.6564    ],\n",
       "        [129.42988235],\n",
       "        [127.85565217]])"
      ]
     },
     "execution_count": 29,
     "metadata": {},
     "output_type": "execute_result"
    }
   ],
   "source": [
    "(M*u2.T)/u2.T"
   ]
  },
  {
   "cell_type": "code",
   "execution_count": 30,
   "metadata": {
    "ExecuteTime": {
     "end_time": "2020-01-10T21:10:37.508164Z",
     "start_time": "2020-01-10T21:10:37.503030Z"
    }
   },
   "outputs": [
    {
     "data": {
      "text/plain": [
       "matrix([[  7.54319149],\n",
       "        [  5.2075    ],\n",
       "        [-23.2825    ]])"
      ]
     },
     "execution_count": 30,
     "metadata": {},
     "output_type": "execute_result"
    }
   ],
   "source": [
    "(M*u3.T)/u3.T"
   ]
  },
  {
   "cell_type": "markdown",
   "metadata": {},
   "source": [
    "Given the following dataset S, eigenvalues e1, e2, eigenvectors x1, x2 transform the input using PCA"
   ]
  },
  {
   "cell_type": "code",
   "execution_count": 31,
   "metadata": {
    "ExecuteTime": {
     "end_time": "2020-01-10T21:12:02.777252Z",
     "start_time": "2020-01-10T21:12:02.773958Z"
    }
   },
   "outputs": [],
   "source": [
    "S = np.mat([[1, -1], \n",
    "            [0,  1], \n",
    "            [-1, 0]])"
   ]
  },
  {
   "cell_type": "code",
   "execution_count": 33,
   "metadata": {
    "ExecuteTime": {
     "end_time": "2020-01-10T21:12:21.912584Z",
     "start_time": "2020-01-10T21:12:21.909515Z"
    }
   },
   "outputs": [],
   "source": [
    "e1 = 3\n",
    "e2 = 1"
   ]
  },
  {
   "cell_type": "code",
   "execution_count": 51,
   "metadata": {
    "ExecuteTime": {
     "end_time": "2020-01-10T21:21:38.498678Z",
     "start_time": "2020-01-10T21:21:38.494815Z"
    }
   },
   "outputs": [],
   "source": [
    "x1 = np.mat([1/np.sqrt(2), -1/np.sqrt(2)])\n",
    "x2 = np.mat([1/np.sqrt(2),  1/np.sqrt(2)])"
   ]
  },
  {
   "cell_type": "markdown",
   "metadata": {},
   "source": [
    "subtract the mean from each attrib"
   ]
  },
  {
   "cell_type": "code",
   "execution_count": 52,
   "metadata": {
    "ExecuteTime": {
     "end_time": "2020-01-10T21:21:39.033677Z",
     "start_time": "2020-01-10T21:21:39.029844Z"
    }
   },
   "outputs": [
    {
     "name": "stdout",
     "output_type": "stream",
     "text": [
      "0.0 0.0\n"
     ]
    }
   ],
   "source": [
    "# But the means are zero so subtract nothing\n",
    "print(S[:,0].mean(), S[:,1].mean())"
   ]
  },
  {
   "cell_type": "code",
   "execution_count": 56,
   "metadata": {
    "ExecuteTime": {
     "end_time": "2020-01-10T21:21:57.993518Z",
     "start_time": "2020-01-10T21:21:57.990335Z"
    }
   },
   "outputs": [],
   "source": [
    "transformed = S*x1.T"
   ]
  },
  {
   "cell_type": "markdown",
   "metadata": {},
   "source": [
    "recover the original data from the primary component"
   ]
  },
  {
   "cell_type": "code",
   "execution_count": 66,
   "metadata": {
    "ExecuteTime": {
     "end_time": "2020-01-10T21:25:09.386726Z",
     "start_time": "2020-01-10T21:25:09.381893Z"
    }
   },
   "outputs": [
    {
     "data": {
      "text/plain": [
       "matrix([[ 1. , -1. ],\n",
       "        [-0.5,  0.5],\n",
       "        [-0.5,  0.5]])"
      ]
     },
     "execution_count": 66,
     "metadata": {},
     "output_type": "execute_result"
    }
   ],
   "source": [
    "transformed*x1"
   ]
  },
  {
   "cell_type": "markdown",
   "metadata": {},
   "source": [
    "λ1=2.5, λ3=1\n",
    "\n",
    "v1=[ 2 1 -2 ] v2=[ 1 -2 0 ]\n",
    "\n",
    "and a covariance matrix given by\n",
    "\n",
    "```\n",
    "4 1   2 \n",
    "1 2.5 1 \n",
    "2 1   5\n",
    "```"
   ]
  },
  {
   "cell_type": "code",
   "execution_count": 70,
   "metadata": {
    "ExecuteTime": {
     "end_time": "2020-01-10T21:31:44.623084Z",
     "start_time": "2020-01-10T21:31:44.619439Z"
    }
   },
   "outputs": [],
   "source": [
    "C = np.matrix([[4, 1, 2], \n",
    "               [1, 2.5, 1], \n",
    "               [2, 1, 5]])"
   ]
  },
  {
   "cell_type": "code",
   "execution_count": 71,
   "metadata": {
    "ExecuteTime": {
     "end_time": "2020-01-10T21:31:44.829541Z",
     "start_time": "2020-01-10T21:31:44.826079Z"
    }
   },
   "outputs": [],
   "source": [
    "v1 = np.mat([2, 1, -2])\n",
    "v2 = np.mat([1, -2, 0])"
   ]
  },
  {
   "cell_type": "markdown",
   "metadata": {},
   "source": [
    "a) What is the value for eigenvalue λ2?"
   ]
  },
  {
   "cell_type": "code",
   "execution_count": 75,
   "metadata": {
    "ExecuteTime": {
     "end_time": "2020-01-10T21:32:20.501047Z",
     "start_time": "2020-01-10T21:32:20.495581Z"
    }
   },
   "outputs": [
    {
     "name": "stderr",
     "output_type": "stream",
     "text": [
      "/Library/Frameworks/Python.framework/Versions/3.6/lib/python3.6/site-packages/ipykernel_launcher.py:1: RuntimeWarning: invalid value encountered in true_divide\n",
      "  \"\"\"Entry point for launching an IPython kernel.\n"
     ]
    },
    {
     "data": {
      "text/plain": [
       "matrix([[ 2.],\n",
       "        [ 2.],\n",
       "        [nan]])"
      ]
     },
     "execution_count": 75,
     "metadata": {},
     "output_type": "execute_result"
    }
   ],
   "source": [
    "(C*v2.T)/v2.T"
   ]
  },
  {
   "cell_type": "code",
   "execution_count": 76,
   "metadata": {
    "ExecuteTime": {
     "end_time": "2020-01-10T21:37:21.624007Z",
     "start_time": "2020-01-10T21:37:21.621294Z"
    }
   },
   "outputs": [],
   "source": [
    "x = np.mat([1, 1, 1])"
   ]
  },
  {
   "cell_type": "code",
   "execution_count": 87,
   "metadata": {
    "ExecuteTime": {
     "end_time": "2020-01-10T21:39:14.718323Z",
     "start_time": "2020-01-10T21:39:14.713477Z"
    }
   },
   "outputs": [
    {
     "data": {
      "text/plain": [
       "matrix([[ 1, -1]])"
      ]
     },
     "execution_count": 87,
     "metadata": {},
     "output_type": "execute_result"
    }
   ],
   "source": [
    "x*np.hstack([v1.T, v2.T])"
   ]
  },
  {
   "cell_type": "code",
   "execution_count": null,
   "metadata": {},
   "outputs": [],
   "source": []
  }
 ],
 "metadata": {
  "kernelspec": {
   "display_name": "Python 3",
   "language": "python",
   "name": "python3"
  },
  "language_info": {
   "codemirror_mode": {
    "name": "ipython",
    "version": 3
   },
   "file_extension": ".py",
   "mimetype": "text/x-python",
   "name": "python",
   "nbconvert_exporter": "python",
   "pygments_lexer": "ipython3",
   "version": "3.6.1"
  }
 },
 "nbformat": 4,
 "nbformat_minor": 2
}
