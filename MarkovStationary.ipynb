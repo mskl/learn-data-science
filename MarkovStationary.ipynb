{
 "cells": [
  {
   "cell_type": "code",
   "execution_count": 8,
   "metadata": {
    "ExecuteTime": {
     "end_time": "2020-06-08T17:10:02.777763Z",
     "start_time": "2020-06-08T17:10:02.774913Z"
    }
   },
   "outputs": [],
   "source": [
    "import numpy as np\n",
    "from scipy.stats import entropy"
   ]
  },
  {
   "cell_type": "code",
   "execution_count": 9,
   "metadata": {
    "ExecuteTime": {
     "end_time": "2020-06-08T17:10:02.908040Z",
     "start_time": "2020-06-08T17:10:02.903483Z"
    }
   },
   "outputs": [],
   "source": [
    "A = np.matrix([\n",
    "    [0, 1, 0],\n",
    "    [1/2, 0, 1/2],\n",
    "    [0, 1/2, 1/2],\n",
    "])\n",
    "\n",
    "assert (A.sum(axis=1) == np.ones(A.shape[1])).all()"
   ]
  },
  {
   "cell_type": "code",
   "execution_count": 10,
   "metadata": {
    "ExecuteTime": {
     "end_time": "2020-06-08T17:10:03.047768Z",
     "start_time": "2020-06-08T17:10:03.043456Z"
    }
   },
   "outputs": [],
   "source": [
    "S, U = np.linalg.eig(A.T)\n",
    "stationary = np.array(U[:, np.where(np.abs(S - 1.) < 1e-8)[0][0]].flat)\n",
    "stationary = stationary / np.sum(stationary)"
   ]
  },
  {
   "cell_type": "code",
   "execution_count": 11,
   "metadata": {
    "ExecuteTime": {
     "end_time": "2020-06-08T17:10:03.194831Z",
     "start_time": "2020-06-08T17:10:03.190169Z"
    }
   },
   "outputs": [
    {
     "data": {
      "text/plain": [
       "array([0.2, 0.4, 0.4])"
      ]
     },
     "execution_count": 11,
     "metadata": {},
     "output_type": "execute_result"
    }
   ],
   "source": [
    "np.round(stationary.astype(float), 3)"
   ]
  },
  {
   "cell_type": "code",
   "execution_count": 12,
   "metadata": {
    "ExecuteTime": {
     "end_time": "2020-06-08T17:10:03.336053Z",
     "start_time": "2020-06-08T17:10:03.331722Z"
    }
   },
   "outputs": [
    {
     "data": {
      "text/plain": [
       "matrix([[0.2, 0.4, 0.4],\n",
       "        [0.2, 0.4, 0.4],\n",
       "        [0.2, 0.4, 0.4]])"
      ]
     },
     "execution_count": 12,
     "metadata": {},
     "output_type": "execute_result"
    }
   ],
   "source": [
    "A**100000"
   ]
  },
  {
   "cell_type": "code",
   "execution_count": 13,
   "metadata": {
    "ExecuteTime": {
     "end_time": "2020-06-08T17:10:03.846223Z",
     "start_time": "2020-06-08T17:10:03.838228Z"
    }
   },
   "outputs": [
    {
     "name": "stdout",
     "output_type": "stream",
     "text": [
      "=== 0 ===\n",
      " [[1. 0. 0.]\n",
      " [0. 1. 0.]\n",
      " [0. 0. 1.]]\n",
      "=== 1 ===\n",
      " [[0.  1.  0. ]\n",
      " [0.5 0.  0.5]\n",
      " [0.  0.5 0.5]]\n",
      "=== 2 ===\n",
      " [[0.5  0.   0.5 ]\n",
      " [0.   0.75 0.25]\n",
      " [0.25 0.25 0.5 ]]\n",
      "=== 3 ===\n",
      " [[0.    0.75  0.25 ]\n",
      " [0.375 0.125 0.5  ]\n",
      " [0.125 0.5   0.375]]\n",
      "=== 4 ===\n",
      " [[0.375  0.125  0.5   ]\n",
      " [0.0625 0.625  0.3125]\n",
      " [0.25   0.3125 0.4375]]\n",
      "=== 5 ===\n",
      " [[0.0625  0.625   0.3125 ]\n",
      " [0.3125  0.21875 0.46875]\n",
      " [0.15625 0.46875 0.375  ]]\n",
      "=== 6 ===\n",
      " [[0.3125   0.21875  0.46875 ]\n",
      " [0.109375 0.546875 0.34375 ]\n",
      " [0.234375 0.34375  0.421875]]\n",
      "=== 7 ===\n",
      " [[0.109375  0.546875  0.34375  ]\n",
      " [0.2734375 0.28125   0.4453125]\n",
      " [0.171875  0.4453125 0.3828125]]\n",
      "=== 8 ===\n",
      " [[0.2734375  0.28125    0.4453125 ]\n",
      " [0.140625   0.49609375 0.36328125]\n",
      " [0.22265625 0.36328125 0.4140625 ]]\n",
      "=== 9 ===\n",
      " [[0.140625   0.49609375 0.36328125]\n",
      " [0.24804688 0.32226562 0.4296875 ]\n",
      " [0.18164062 0.4296875  0.38867188]]\n"
     ]
    }
   ],
   "source": [
    "_ = [print(\"===\", _, \"===\\n\", A**_) for _ in range(10)]"
   ]
  },
  {
   "cell_type": "code",
   "execution_count": null,
   "metadata": {},
   "outputs": [],
   "source": []
  }
 ],
 "metadata": {
  "kernelspec": {
   "display_name": "Python 3",
   "language": "python",
   "name": "python3"
  },
  "language_info": {
   "codemirror_mode": {
    "name": "ipython",
    "version": 3
   },
   "file_extension": ".py",
   "mimetype": "text/x-python",
   "name": "python",
   "nbconvert_exporter": "python",
   "pygments_lexer": "ipython3",
   "version": "3.7.7"
  }
 },
 "nbformat": 4,
 "nbformat_minor": 4
}
