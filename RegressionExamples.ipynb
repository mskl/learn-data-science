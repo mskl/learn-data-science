{
 "cells": [
  {
   "cell_type": "code",
   "execution_count": 6,
   "metadata": {
    "ExecuteTime": {
     "end_time": "2020-01-10T21:49:05.052598Z",
     "start_time": "2020-01-10T21:49:04.541251Z"
    }
   },
   "outputs": [],
   "source": [
    "import numpy as np\n",
    "import pandas as pd"
   ]
  },
  {
   "cell_type": "code",
   "execution_count": 7,
   "metadata": {
    "ExecuteTime": {
     "end_time": "2020-01-10T21:49:05.672519Z",
     "start_time": "2020-01-10T21:49:05.668377Z"
    }
   },
   "outputs": [],
   "source": [
    "S = np.mat([[7, 560, 16.68], \n",
    "           [3, 220, 11.5], \n",
    "           [3, 340, 12.03], \n",
    "           [4, 80, 14.88], \n",
    "           [6, 150, 13.75], \n",
    "           [7, 330, 18.11]])"
   ]
  },
  {
   "cell_type": "code",
   "execution_count": 12,
   "metadata": {
    "ExecuteTime": {
     "end_time": "2020-01-10T21:49:50.842539Z",
     "start_time": "2020-01-10T21:49:50.838785Z"
    }
   },
   "outputs": [],
   "source": [
    "df = pd.DataFrame(S, columns=[\"y1\", \"y2\", \"z\"])"
   ]
  },
  {
   "cell_type": "code",
   "execution_count": 14,
   "metadata": {
    "ExecuteTime": {
     "end_time": "2020-01-10T21:51:12.437381Z",
     "start_time": "2020-01-10T21:51:12.430689Z"
    }
   },
   "outputs": [],
   "source": [
    "df[\"preds\"] = df.apply(lambda x: 2.341 + 1.616*x.y1 + 0.014*x.y2, axis=1)"
   ]
  },
  {
   "cell_type": "code",
   "execution_count": 19,
   "metadata": {
    "ExecuteTime": {
     "end_time": "2020-01-10T21:54:03.947524Z",
     "start_time": "2020-01-10T21:54:03.940522Z"
    }
   },
   "outputs": [
    {
     "data": {
      "text/plain": [
       "8.23587566666667"
      ]
     },
     "execution_count": 19,
     "metadata": {},
     "output_type": "execute_result"
    }
   ],
   "source": [
    "# MSE\n",
    "df.apply(lambda x: (x.z - x.preds)**2, axis=1).sum()/len(df)"
   ]
  },
  {
   "cell_type": "code",
   "execution_count": 20,
   "metadata": {
    "ExecuteTime": {
     "end_time": "2020-01-10T21:54:56.928644Z",
     "start_time": "2020-01-10T21:54:56.921968Z"
    }
   },
   "outputs": [
    {
     "data": {
      "text/plain": [
       "2.869821539166969"
      ]
     },
     "execution_count": 20,
     "metadata": {},
     "output_type": "execute_result"
    }
   ],
   "source": [
    "# RMSE\n",
    "np.sqrt(df.apply(lambda x: (x.z - x.preds)**2, axis=1).sum()/len(df))"
   ]
  },
  {
   "cell_type": "code",
   "execution_count": 21,
   "metadata": {
    "ExecuteTime": {
     "end_time": "2020-01-10T21:55:24.329094Z",
     "start_time": "2020-01-10T21:55:24.322069Z"
    }
   },
   "outputs": [
    {
     "data": {
      "text/plain": [
       "1.9383333333333341"
      ]
     },
     "execution_count": 21,
     "metadata": {},
     "output_type": "execute_result"
    }
   ],
   "source": [
    "# MAE\n",
    "df.apply(lambda x: abs(x.z - x.preds), axis=1).sum()/len(df)"
   ]
  },
  {
   "cell_type": "code",
   "execution_count": 25,
   "metadata": {
    "ExecuteTime": {
     "end_time": "2020-01-10T21:56:29.696861Z",
     "start_time": "2020-01-10T21:56:29.691950Z"
    }
   },
   "outputs": [],
   "source": [
    "df[\"rezidual\"] = df.preds - df.z"
   ]
  },
  {
   "cell_type": "code",
   "execution_count": 26,
   "metadata": {
    "ExecuteTime": {
     "end_time": "2020-01-10T21:56:34.520998Z",
     "start_time": "2020-01-10T21:56:34.515215Z"
    }
   },
   "outputs": [
    {
     "data": {
      "text/plain": [
       "0    4.813\n",
       "1   -1.231\n",
       "2   -0.081\n",
       "3   -4.955\n",
       "4    0.387\n",
       "5    0.163\n",
       "Name: rezidual, dtype: float64"
      ]
     },
     "execution_count": 26,
     "metadata": {},
     "output_type": "execute_result"
    }
   ],
   "source": [
    "df.rezidual"
   ]
  },
  {
   "cell_type": "code",
   "execution_count": 24,
   "metadata": {
    "ExecuteTime": {
     "end_time": "2020-01-10T21:56:10.314518Z",
     "start_time": "2020-01-10T21:56:10.303681Z"
    }
   },
   "outputs": [
    {
     "data": {
      "text/html": [
       "<div>\n",
       "<style scoped>\n",
       "    .dataframe tbody tr th:only-of-type {\n",
       "        vertical-align: middle;\n",
       "    }\n",
       "\n",
       "    .dataframe tbody tr th {\n",
       "        vertical-align: top;\n",
       "    }\n",
       "\n",
       "    .dataframe thead th {\n",
       "        text-align: right;\n",
       "    }\n",
       "</style>\n",
       "<table border=\"1\" class=\"dataframe\">\n",
       "  <thead>\n",
       "    <tr style=\"text-align: right;\">\n",
       "      <th></th>\n",
       "      <th>y1</th>\n",
       "      <th>y2</th>\n",
       "      <th>z</th>\n",
       "      <th>preds</th>\n",
       "      <th>rezidual</th>\n",
       "    </tr>\n",
       "  </thead>\n",
       "  <tbody>\n",
       "    <tr>\n",
       "      <th>0</th>\n",
       "      <td>7.0</td>\n",
       "      <td>560.0</td>\n",
       "      <td>16.68</td>\n",
       "      <td>21.493</td>\n",
       "      <td>-4.813</td>\n",
       "    </tr>\n",
       "    <tr>\n",
       "      <th>1</th>\n",
       "      <td>3.0</td>\n",
       "      <td>220.0</td>\n",
       "      <td>11.50</td>\n",
       "      <td>10.269</td>\n",
       "      <td>1.231</td>\n",
       "    </tr>\n",
       "    <tr>\n",
       "      <th>2</th>\n",
       "      <td>3.0</td>\n",
       "      <td>340.0</td>\n",
       "      <td>12.03</td>\n",
       "      <td>11.949</td>\n",
       "      <td>0.081</td>\n",
       "    </tr>\n",
       "    <tr>\n",
       "      <th>3</th>\n",
       "      <td>4.0</td>\n",
       "      <td>80.0</td>\n",
       "      <td>14.88</td>\n",
       "      <td>9.925</td>\n",
       "      <td>4.955</td>\n",
       "    </tr>\n",
       "    <tr>\n",
       "      <th>4</th>\n",
       "      <td>6.0</td>\n",
       "      <td>150.0</td>\n",
       "      <td>13.75</td>\n",
       "      <td>14.137</td>\n",
       "      <td>-0.387</td>\n",
       "    </tr>\n",
       "    <tr>\n",
       "      <th>5</th>\n",
       "      <td>7.0</td>\n",
       "      <td>330.0</td>\n",
       "      <td>18.11</td>\n",
       "      <td>18.273</td>\n",
       "      <td>-0.163</td>\n",
       "    </tr>\n",
       "  </tbody>\n",
       "</table>\n",
       "</div>"
      ],
      "text/plain": [
       "    y1     y2      z   preds  rezidual\n",
       "0  7.0  560.0  16.68  21.493    -4.813\n",
       "1  3.0  220.0  11.50  10.269     1.231\n",
       "2  3.0  340.0  12.03  11.949     0.081\n",
       "3  4.0   80.0  14.88   9.925     4.955\n",
       "4  6.0  150.0  13.75  14.137    -0.387\n",
       "5  7.0  330.0  18.11  18.273    -0.163"
      ]
     },
     "execution_count": 24,
     "metadata": {},
     "output_type": "execute_result"
    }
   ],
   "source": [
    "df"
   ]
  },
  {
   "cell_type": "code",
   "execution_count": null,
   "metadata": {},
   "outputs": [],
   "source": []
  }
 ],
 "metadata": {
  "kernelspec": {
   "display_name": "Python 3",
   "language": "python",
   "name": "python3"
  },
  "language_info": {
   "codemirror_mode": {
    "name": "ipython",
    "version": 3
   },
   "file_extension": ".py",
   "mimetype": "text/x-python",
   "name": "python",
   "nbconvert_exporter": "python",
   "pygments_lexer": "ipython3",
   "version": "3.6.1"
  }
 },
 "nbformat": 4,
 "nbformat_minor": 2
}
