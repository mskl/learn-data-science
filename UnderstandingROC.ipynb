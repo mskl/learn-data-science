{
 "cells": [
  {
   "cell_type": "code",
   "execution_count": 247,
   "metadata": {
    "ExecuteTime": {
     "end_time": "2019-03-26T23:19:30.620552Z",
     "start_time": "2019-03-26T23:19:30.617464Z"
    }
   },
   "outputs": [],
   "source": [
    "import numpy as np"
   ]
  },
  {
   "cell_type": "markdown",
   "metadata": {},
   "source": [
    "### some data to test "
   ]
  },
  {
   "cell_type": "code",
   "execution_count": 248,
   "metadata": {
    "ExecuteTime": {
     "end_time": "2019-03-26T23:19:31.140316Z",
     "start_time": "2019-03-26T23:19:31.136366Z"
    }
   },
   "outputs": [],
   "source": [
    "y_test = np.array([0.0, 0.0, 1.0, 0.0, 1.0, 0.00, 0.00, 0.00, 1.00, 1.00, 0.00, 1.00])\n",
    "y_pred = np.array([0.2, 0.3, 0.9, 0.1, 0.7, 0.03, 0.78, 0.48, 0.98, 0.45, 0.23, 0.86])"
   ]
  },
  {
   "cell_type": "markdown",
   "metadata": {},
   "source": [
    "### sort both the arrays based on the pred values"
   ]
  },
  {
   "cell_type": "code",
   "execution_count": 249,
   "metadata": {
    "ExecuteTime": {
     "end_time": "2019-03-26T23:19:31.695146Z",
     "start_time": "2019-03-26T23:19:31.688509Z"
    }
   },
   "outputs": [
    {
     "name": "stdout",
     "output_type": "stream",
     "text": [
      "y_test: [0. 0. 0. 0. 0. 1. 0. 1. 0. 1. 1. 1.]\n",
      "y_pred: [0.03, 0.1, 0.2, 0.23, 0.3, 0.45, 0.48, 0.7, 0.78, 0.86, 0.9, 0.98]\n"
     ]
    }
   ],
   "source": [
    "y_test = np.array([x for _, x in sorted(zip(y_pred, y_test), key=lambda pair: pair[0])])\n",
    "y_pred = sorted(y_pred)\n",
    "\n",
    "print(\"y_test:\", y_test)\n",
    "print(\"y_pred:\", y_pred)"
   ]
  },
  {
   "cell_type": "markdown",
   "metadata": {},
   "source": [
    "## ROC curve"
   ]
  },
  {
   "cell_type": "code",
   "execution_count": 250,
   "metadata": {
    "ExecuteTime": {
     "end_time": "2019-03-26T23:19:32.612276Z",
     "start_time": "2019-03-26T23:19:32.600292Z"
    }
   },
   "outputs": [],
   "source": [
    "tprs = []\n",
    "ppvs = []\n",
    "fprs = []\n",
    "\n",
    "# Go over all possible tresholds (y_pred_values:)\n",
    "for i, treshold in reversed(list(enumerate(y_pred))):\n",
    "    y_tresholded = np.greater_equal(y_pred, np.full(len(y_test), treshold)).astype(float)\n",
    "    \n",
    "    TP = np.sum(np.logical_and(y_tresholded == 1, y_test == 1))\n",
    "    TN = np.sum(np.logical_and(y_tresholded == 0, y_test == 0))\n",
    "    FP = np.sum(np.logical_and(y_tresholded == 1, y_test == 0))\n",
    "    FN = np.sum(np.logical_and(y_tresholded == 0, y_test == 1))\n",
    "\n",
    "    tprs.append(np.nan_to_num(TP/(TP+FN)))\n",
    "    fprs.append(np.nan_to_num(FP/(FP+TN)))\n",
    "    ppvs.append(np.nan_to_num(TP/(TP+FP)))"
   ]
  },
  {
   "cell_type": "code",
   "execution_count": 251,
   "metadata": {
    "ExecuteTime": {
     "end_time": "2019-03-26T23:19:33.388798Z",
     "start_time": "2019-03-26T23:19:33.192569Z"
    }
   },
   "outputs": [
    {
     "data": {
      "image/png": "[encoded data removed]",
      "text/plain": [
       "<Figure size 432x288 with 1 Axes>"
      ]
     },
     "metadata": {
      "needs_background": "light"
     },
     "output_type": "display_data"
    }
   ],
   "source": [
    "plt.figure()\n",
    "plt.xlim([0.0, 1.0])\n",
    "plt.ylim([0.0, 1.05])\n",
    "plt.plot(fprs, tprs)\n",
    "plt.show()"
   ]
  },
  {
   "cell_type": "code",
   "execution_count": 252,
   "metadata": {
    "ExecuteTime": {
     "end_time": "2019-03-26T23:19:34.061444Z",
     "start_time": "2019-03-26T23:19:33.904282Z"
    }
   },
   "outputs": [
    {
     "data": {
      "image/png": "[encoded data removed]",
      "text/plain": [
       "<Figure size 432x288 with 1 Axes>"
      ]
     },
     "metadata": {
      "needs_background": "light"
     },
     "output_type": "display_data"
    }
   ],
   "source": [
    "from sklearn.metrics import roc_curve, auc\n",
    "\n",
    "falsepos, recall, _ = roc_curve(y_test, y_pred)\n",
    "\n",
    "plt.figure()\n",
    "plt.plot(falsepos, recall)\n",
    "plt.xlim([0.0, 1.0])\n",
    "plt.ylim([0.0, 1.05])\n",
    "plt.show()"
   ]
  },
  {
   "cell_type": "markdown",
   "metadata": {},
   "source": [
    "## Precission/Recall curve\n",
    "- precission = PPV = TP / (TP + FP)\n",
    "- recall = TPR = TP / (TP + FN)"
   ]
  },
  {
   "cell_type": "code",
   "execution_count": 253,
   "metadata": {
    "ExecuteTime": {
     "end_time": "2019-03-26T23:19:35.038126Z",
     "start_time": "2019-03-26T23:19:34.880180Z"
    }
   },
   "outputs": [
    {
     "data": {
      "image/png": "[encoded data removed]",
      "text/plain": [
       "<Figure size 432x288 with 1 Axes>"
      ]
     },
     "metadata": {
      "needs_background": "light"
     },
     "output_type": "display_data"
    }
   ],
   "source": [
    "plt.figure()\n",
    "plt.xlim([0.0, 1.0])\n",
    "plt.ylim([0.0, 1.05])\n",
    "plt.plot(tprs, ppvs)\n",
    "plt.show()"
   ]
  },
  {
   "cell_type": "code",
   "execution_count": 254,
   "metadata": {
    "ExecuteTime": {
     "end_time": "2019-03-26T23:19:35.732138Z",
     "start_time": "2019-03-26T23:19:35.576115Z"
    }
   },
   "outputs": [
    {
     "data": {
      "image/png": "[encoded data removed]",
      "text/plain": [
       "<Figure size 432x288 with 1 Axes>"
      ]
     },
     "metadata": {
      "needs_background": "light"
     },
     "output_type": "display_data"
    }
   ],
   "source": [
    "from sklearn.metrics import precision_recall_curve\n",
    "precision, recall, _ = precision_recall_curve(y_test, y_pred)\n",
    "\n",
    "plt.figure()\n",
    "plt.xlim([0.0, 1.0])\n",
    "plt.ylim([0.0, 1.05])\n",
    "plt.plot(recall, precision)\n",
    "plt.show()"
   ]
  },
  {
   "cell_type": "markdown",
   "metadata": {},
   "source": [
    "# SKLearn way"
   ]
  },
  {
   "cell_type": "markdown",
   "metadata": {},
   "source": [
    "# Some random dudes way\n",
    "src: https://gist.github.com/wugh/5e803783e97166a0c878c6f64fa04a21"
   ]
  },
  {
   "cell_type": "code",
   "execution_count": 255,
   "metadata": {
    "ExecuteTime": {
     "end_time": "2019-03-26T23:19:37.699187Z",
     "start_time": "2019-03-26T23:19:37.688121Z"
    }
   },
   "outputs": [],
   "source": [
    "def roc_auc(y_true, y_score):\n",
    "    y_true = np.array(y_true)\n",
    "    y_score = np.array(y_score)\n",
    "\n",
    "    # comput fpr and tpr\n",
    "    desc_index = np.argsort(y_score)[::-1]\n",
    "    y_score = y_score[desc_index]\n",
    "    y_true = y_true[desc_index]\n",
    "    # threshold is y_score[i]\n",
    "    # score <= y_score[i] compute true pos num (tps[i])\n",
    "    # and false pos num (fps[i])\n",
    "    tps = np.cumsum(y_true)\n",
    "    fps = 1 + np.arange(len(y_true)) - tps\n",
    "    fpr = fps/float(fps[-1])\n",
    "    tpr = tps/float(tps[-1])\n",
    "\n",
    "    # reorder fpr and tpr according to fpr increase\n",
    "    incr_index = np.argsort(fpr)\n",
    "    fpr = fpr[incr_index]\n",
    "    tpr = tpr[incr_index]\n",
    "    \n",
    "    return tpr, fpr"
   ]
  },
  {
   "cell_type": "code",
   "execution_count": 256,
   "metadata": {
    "ExecuteTime": {
     "end_time": "2019-03-26T23:19:38.201319Z",
     "start_time": "2019-03-26T23:19:38.040936Z"
    }
   },
   "outputs": [
    {
     "data": {
      "image/png": "[encoded data removed]",
      "text/plain": [
       "<Figure size 432x288 with 1 Axes>"
      ]
     },
     "metadata": {
      "needs_background": "light"
     },
     "output_type": "display_data"
    }
   ],
   "source": [
    "tpr, fpr = roc_auc(y_test, y_pred)\n",
    "\n",
    "plt.figure()\n",
    "plt.xlim([0.0, 1.0])\n",
    "plt.ylim([0.0, 1.05])\n",
    "plt.plot(fpr, tpr)\n",
    "plt.show()"
   ]
  }
 ],
 "metadata": {
  "kernelspec": {
   "display_name": "Python 3",
   "language": "python",
   "name": "python3"
  },
  "language_info": {
   "codemirror_mode": {
    "name": "ipython",
    "version": 3
   },
   "file_extension": ".py",
   "mimetype": "text/x-python",
   "name": "python",
   "nbconvert_exporter": "python",
   "pygments_lexer": "ipython3",
   "version": "3.6.1"
  }
 },
 "nbformat": 4,
 "nbformat_minor": 2
}
