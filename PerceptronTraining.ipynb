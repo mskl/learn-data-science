{
 "cells": [
  {
   "cell_type": "code",
   "execution_count": 1,
   "metadata": {
    "ExecuteTime": {
     "end_time": "2019-05-28T09:58:26.252077Z",
     "start_time": "2019-05-28T09:58:25.891485Z"
    }
   },
   "outputs": [],
   "source": [
    "import numpy as np\n",
    "import matplotlib.pyplot as plt\n",
    "%matplotlib inline"
   ]
  },
  {
   "cell_type": "code",
   "execution_count": 2,
   "metadata": {
    "ExecuteTime": {
     "end_time": "2019-05-28T09:58:26.401513Z",
     "start_time": "2019-05-28T09:58:26.398222Z"
    }
   },
   "outputs": [],
   "source": [
    "reds = np.array([[1, 3], [1, 1], [1, 2]])\n",
    "greens = np.array([[2, 3], [3, 3], [4, 1]])"
   ]
  },
  {
   "cell_type": "code",
   "execution_count": 3,
   "metadata": {
    "ExecuteTime": {
     "end_time": "2019-05-28T09:58:27.416090Z",
     "start_time": "2019-05-28T09:58:27.412963Z"
    }
   },
   "outputs": [],
   "source": [
    "data = np.append(reds, greens, axis=0)"
   ]
  },
  {
   "cell_type": "code",
   "execution_count": 4,
   "metadata": {
    "ExecuteTime": {
     "end_time": "2019-05-28T09:58:28.120283Z",
     "start_time": "2019-05-28T09:58:28.116923Z"
    }
   },
   "outputs": [],
   "source": [
    "def activation(val):\n",
    "    if val > 0:\n",
    "        return 1\n",
    "    return -1"
   ]
  },
  {
   "cell_type": "code",
   "execution_count": 5,
   "metadata": {
    "ExecuteTime": {
     "end_time": "2019-05-28T09:58:28.465678Z",
     "start_time": "2019-05-28T09:58:28.461974Z"
    }
   },
   "outputs": [],
   "source": [
    "def calc_output(inputs, weights):\n",
    "    # Sum the output and return activated value\n",
    "    return activation(np.sum(inputs*weights))"
   ]
  },
  {
   "cell_type": "code",
   "execution_count": 6,
   "metadata": {
    "ExecuteTime": {
     "end_time": "2019-05-28T09:58:32.706791Z",
     "start_time": "2019-05-28T09:58:32.654174Z"
    }
   },
   "outputs": [
    {
     "name": "stdout",
     "output_type": "stream",
     "text": [
      "========== [-0.70376664 -0.8716905  -0.80961312] ==========\n",
      "epoch 0 accuracy 0.5\n",
      "========== [-0.70376664 -1.8716905  -0.80961312] ==========\n",
      "epoch 1 accuracy 0.5\n",
      "========== [-0.70376664 -2.8716905  -0.80961312] ==========\n",
      "epoch 2 accuracy 0.5\n",
      "========== [-0.70376664 -3.8716905  -0.80961312] ==========\n",
      "epoch 3 accuracy 0.5\n",
      "========== [ 0.29623336 -3.8716905   0.19038688] ==========\n",
      "epoch 4 accuracy 0.5\n",
      "========== [ 0.29623336 -4.8716905   0.19038688] ==========\n",
      "epoch 5 accuracy 0.5\n",
      "========== [ 0.29623336 -5.8716905   0.19038688] ==========\n",
      "epoch 6 accuracy 0.5\n",
      "========== [ 1.29623336 -5.8716905   1.19038688] ==========\n",
      "epoch 7 accuracy 0.5\n",
      "========== [ 1.29623336 -6.8716905   1.19038688] ==========\n",
      "epoch 8 accuracy 0.5\n",
      "========== [ 1.29623336 -7.8716905   1.19038688] ==========\n",
      "epoch 9 accuracy 0.5\n",
      "========== [ 2.29623336 -7.8716905   2.19038688] ==========\n",
      "epoch 10 accuracy 0.6666666666666666\n",
      "========== [ 3.29623336 -6.8716905   3.19038688] ==========\n",
      "epoch 11 accuracy 0.8333333333333334\n",
      "========== [ 3.29623336 -7.8716905   1.19038688] ==========\n",
      "epoch 12 accuracy 0.5\n",
      "========== [ 3.29623336 -8.8716905   1.19038688] ==========\n",
      "epoch 13 accuracy 0.5\n",
      "========== [ 3.29623336 -9.8716905   1.19038688] ==========\n",
      "epoch 14 accuracy 0.5\n",
      "========== [ 4.29623336 -9.8716905   2.19038688] ==========\n",
      "epoch 15 accuracy 0.6666666666666666\n",
      "========== [ 5.29623336 -8.8716905   3.19038688] ==========\n",
      "epoch 16 accuracy 0.8333333333333334\n",
      "========== [ 5.29623336 -9.8716905   1.19038688] ==========\n",
      "epoch 17 accuracy 0.5\n",
      "========== [  5.29623336 -10.8716905    1.19038688] ==========\n",
      "epoch 18 accuracy 0.5\n",
      "========== [ 6.29623336 -9.8716905   4.19038688] ==========\n",
      "epoch 19 accuracy 1.0\n"
     ]
    }
   ],
   "source": [
    "learning_rate = 0.5\n",
    "weights = np.random.rand(3)\n",
    "weights = (weights * 2) - 1\n",
    "\n",
    "for epoch in range(20):\n",
    "    print(\"==========\", weights, \"==========\")\n",
    "    correct = 0\n",
    "    for i, point in enumerate(data):\n",
    "        padded = np.pad(point, (1, 0), mode='constant', constant_values=1)\n",
    "        y_real = int(i < 3)*2-1\n",
    "        y_hat = calc_output(padded, weights)\n",
    "        correct += int(y_real == y_hat)\n",
    "        \n",
    "    print(\"epoch\", epoch, \"accuracy\", correct / len(data))\n",
    "        \n",
    "    for i, point in enumerate(data):\n",
    "        padded = np.pad(point, (1, 0), mode='constant', constant_values=1)\n",
    "        y_real = int(i < 3)*2-1\n",
    "        y_hat = calc_output(padded, weights)\n",
    "        weights_update = (y_real-y_hat)*padded\n",
    "        weights += learning_rate*weights_update"
   ]
  },
  {
   "cell_type": "code",
   "execution_count": null,
   "metadata": {},
   "outputs": [],
   "source": []
  },
  {
   "cell_type": "code",
   "execution_count": null,
   "metadata": {},
   "outputs": [],
   "source": []
  }
 ],
 "metadata": {
  "kernelspec": {
   "display_name": "Python 3",
   "language": "python",
   "name": "python3"
  },
  "language_info": {
   "codemirror_mode": {
    "name": "ipython",
    "version": 3
   },
   "file_extension": ".py",
   "mimetype": "text/x-python",
   "name": "python",
   "nbconvert_exporter": "python",
   "pygments_lexer": "ipython3",
   "version": "3.6.1"
  }
 },
 "nbformat": 4,
 "nbformat_minor": 2
}
