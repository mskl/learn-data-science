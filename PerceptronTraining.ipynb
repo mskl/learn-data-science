{
 "cells": [
  {
   "cell_type": "code",
   "execution_count": 1,
   "metadata": {
    "ExecuteTime": {
     "end_time": "2019-06-18T22:32:34.766221Z",
     "start_time": "2019-06-18T22:32:34.110747Z"
    }
   },
   "outputs": [],
   "source": [
    "import numpy as np\n",
    "import matplotlib.pyplot as plt\n",
    "%matplotlib inline"
   ]
  },
  {
   "cell_type": "code",
   "execution_count": 2,
   "metadata": {
    "ExecuteTime": {
     "end_time": "2019-06-18T22:32:34.772515Z",
     "start_time": "2019-06-18T22:32:34.769313Z"
    }
   },
   "outputs": [],
   "source": [
    "reds = np.array([[1, 3], [1, 1], [1, 2]])\n",
    "greens = np.array([[2, 3], [3, 3], [4, 1]])"
   ]
  },
  {
   "cell_type": "code",
   "execution_count": 3,
   "metadata": {
    "ExecuteTime": {
     "end_time": "2019-06-18T22:32:34.778815Z",
     "start_time": "2019-06-18T22:32:34.776126Z"
    }
   },
   "outputs": [],
   "source": [
    "data = np.append(reds, greens, axis=0)"
   ]
  },
  {
   "cell_type": "code",
   "execution_count": 4,
   "metadata": {
    "ExecuteTime": {
     "end_time": "2019-06-18T22:32:34.785284Z",
     "start_time": "2019-06-18T22:32:34.782005Z"
    }
   },
   "outputs": [],
   "source": [
    "def activation(val):\n",
    "    if val > 0:\n",
    "        return 1\n",
    "    return 0"
   ]
  },
  {
   "cell_type": "code",
   "execution_count": 5,
   "metadata": {
    "ExecuteTime": {
     "end_time": "2019-06-18T22:32:34.790756Z",
     "start_time": "2019-06-18T22:32:34.787684Z"
    }
   },
   "outputs": [],
   "source": [
    "def calc_output(inputs, weights):\n",
    "    # Sum the output and return activated value\n",
    "    return activation(np.sum(inputs*weights))"
   ]
  },
  {
   "cell_type": "code",
   "execution_count": 21,
   "metadata": {
    "ExecuteTime": {
     "end_time": "2019-06-18T22:36:16.479501Z",
     "start_time": "2019-06-18T22:36:16.476213Z"
    }
   },
   "outputs": [],
   "source": [
    "learning_rate = 1\n",
    "weights = np.random.rand(3)\n",
    "weights = (weights * 2) - 1"
   ]
  },
  {
   "cell_type": "code",
   "execution_count": 23,
   "metadata": {
    "ExecuteTime": {
     "end_time": "2019-06-18T22:36:19.587811Z",
     "start_time": "2019-06-18T22:36:19.578154Z"
    }
   },
   "outputs": [
    {
     "name": "stdout",
     "output_type": "stream",
     "text": [
      "point [1 3]\n",
      "padded [1 1 3]\n",
      "yh 1\n",
      "y 1\n",
      "weights_update [0 0 0]\n",
      "weights [1.92944794 0.12922395 2.51401644]\n",
      "weights after update [1.92944794 0.12922395 2.51401644]\n"
     ]
    }
   ],
   "source": [
    "point = data[0]\n",
    "print(\"point\", point)\n",
    "padded = np.pad(point, (1, 0), mode='constant', constant_values=1)\n",
    "print(\"padded\", padded)\n",
    "y_hat = calc_output(padded, weights)\n",
    "print(\"yh\", y_hat)\n",
    "print(\"y\", int(0<3))\n",
    "weights_update = (int(0<3)-y_hat)*padded\n",
    "print(\"weights_update\", weights_update)\n",
    "print(\"weights\", weights)\n",
    "weights += learning_rate*weights_update\n",
    "print(\"weights after update\", weights)"
   ]
  },
  {
   "cell_type": "code",
   "execution_count": null,
   "metadata": {},
   "outputs": [],
   "source": [
    "for epoch in range(30):\n",
    "    print(\"==========\", weights, \"==========\")\n",
    "    correct = 0\n",
    "    for i, point in enumerate(data):\n",
    "        padded = np.pad(point, (1, 0), mode='constant', constant_values=1)\n",
    "        y_real = int(i < 3)#*2-1\n",
    "        y_hat = calc_output(padded, weights)\n",
    "        correct += int(y_real == y_hat)\n",
    "        \n",
    "    print(\"epoch\", epoch, \"accuracy\", correct / len(data))\n",
    "        \n",
    "    for i, point in enumerate(data):\n",
    "        padded = np.pad(point, (1, 0), mode='constant', constant_values=1)\n",
    "        y_real = int(i < 3)#*2-1\n",
    "        y_hat = calc_output(padded, weights)\n",
    "        weights_update = (y_real-y_hat)*padded\n",
    "        weights += learning_rate*weights_update"
   ]
  },
  {
   "cell_type": "code",
   "execution_count": null,
   "metadata": {},
   "outputs": [],
   "source": []
  }
 ],
 "metadata": {
  "kernelspec": {
   "display_name": "Python 3",
   "language": "python",
   "name": "python3"
  },
  "language_info": {
   "codemirror_mode": {
    "name": "ipython",
    "version": 3
   },
   "file_extension": ".py",
   "mimetype": "text/x-python",
   "name": "python",
   "nbconvert_exporter": "python",
   "pygments_lexer": "ipython3",
   "version": "3.6.1"
  }
 },
 "nbformat": 4,
 "nbformat_minor": 2
}
