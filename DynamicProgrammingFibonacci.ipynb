{
 "cells": [
  {
   "cell_type": "code",
   "execution_count": 25,
   "metadata": {
    "ExecuteTime": {
     "end_time": "2019-06-12T17:54:46.699955Z",
     "start_time": "2019-06-12T17:54:46.696507Z"
    }
   },
   "outputs": [],
   "source": [
    "def naive_fib(n):\n",
    "    if n <= 2:\n",
    "        return 1\n",
    "    else:\n",
    "        return fib(n-1)+fib(n-2)"
   ]
  },
  {
   "cell_type": "code",
   "execution_count": 26,
   "metadata": {
    "ExecuteTime": {
     "end_time": "2019-06-12T17:54:47.119646Z",
     "start_time": "2019-06-12T17:54:47.113184Z"
    }
   },
   "outputs": [],
   "source": [
    "def dynamic_fib(n):\n",
    "    T = [-1]*n\n",
    "    def f(n):\n",
    "        if n <= 2:\n",
    "            return 1\n",
    "        else:\n",
    "            if T[n-1] == -1:\n",
    "                T[n-1] = f(n-1)\n",
    "            if T[n-2] == -1:\n",
    "                T[n-2] = f(n-2)\n",
    "            return T[n-1] + T[n-2]\n",
    "    return f(n)"
   ]
  },
  {
   "cell_type": "code",
   "execution_count": 28,
   "metadata": {
    "ExecuteTime": {
     "end_time": "2019-06-12T17:55:03.283073Z",
     "start_time": "2019-06-12T17:54:55.774787Z"
    }
   },
   "outputs": [
    {
     "name": "stdout",
     "output_type": "stream",
     "text": [
      "1 loop, best of 3: 239 ms per loop\n",
      "100000 loops, best of 3: 14.9 µs per loop\n"
     ]
    }
   ],
   "source": [
    "%timeit naive_fib(30)\n",
    "%timeit dynamic_fib(30)"
   ]
  },
  {
   "cell_type": "code",
   "execution_count": 17,
   "metadata": {
    "ExecuteTime": {
     "end_time": "2019-06-12T20:31:40.985813Z",
     "start_time": "2019-06-12T20:31:40.981574Z"
    }
   },
   "outputs": [
    {
     "data": {
      "text/plain": [
       "2436"
      ]
     },
     "execution_count": 17,
     "metadata": {},
     "output_type": "execute_result"
    }
   ],
   "source": [
    "42*58"
   ]
  },
  {
   "cell_type": "code",
   "execution_count": 18,
   "metadata": {
    "ExecuteTime": {
     "end_time": "2019-06-12T20:33:21.860617Z",
     "start_time": "2019-06-12T20:33:21.856385Z"
    }
   },
   "outputs": [
    {
     "data": {
      "text/plain": [
       "95"
      ]
     },
     "execution_count": 18,
     "metadata": {},
     "output_type": "execute_result"
    }
   ],
   "source": [
    "1520**13%(43*59)"
   ]
  },
  {
   "cell_type": "code",
   "execution_count": 24,
   "metadata": {
    "ExecuteTime": {
     "end_time": "2019-06-12T20:35:39.773387Z",
     "start_time": "2019-06-12T20:35:39.769160Z"
    }
   },
   "outputs": [
    {
     "data": {
      "text/plain": [
       "5"
      ]
     },
     "execution_count": 24,
     "metadata": {},
     "output_type": "execute_result"
    }
   ],
   "source": [
    "2436-187*13"
   ]
  },
  {
   "cell_type": "code",
   "execution_count": null,
   "metadata": {},
   "outputs": [],
   "source": []
  }
 ],
 "metadata": {
  "kernelspec": {
   "display_name": "Python 3",
   "language": "python",
   "name": "python3"
  },
  "language_info": {
   "codemirror_mode": {
    "name": "ipython",
    "version": 3
   },
   "file_extension": ".py",
   "mimetype": "text/x-python",
   "name": "python",
   "nbconvert_exporter": "python",
   "pygments_lexer": "ipython3",
   "version": "3.6.1"
  }
 },
 "nbformat": 4,
 "nbformat_minor": 2
}
