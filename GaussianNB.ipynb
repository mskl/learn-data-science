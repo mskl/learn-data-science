{
 "cells": [
  {
   "cell_type": "markdown",
   "metadata": {},
   "source": [
    "# Gaussian NB\n",
    "Nive Bayes with numerical attributes."
   ]
  },
  {
   "cell_type": "code",
   "execution_count": 20,
   "metadata": {
    "ExecuteTime": {
     "end_time": "2020-01-11T14:18:43.441326Z",
     "start_time": "2020-01-11T14:18:43.437718Z"
    }
   },
   "outputs": [],
   "source": [
    "import numpy as np\n",
    "import pandas as pd\n",
    "import matplotlib.pyplot as plt\n",
    "%matplotlib inline"
   ]
  },
  {
   "cell_type": "code",
   "execution_count": 21,
   "metadata": {
    "ExecuteTime": {
     "end_time": "2020-01-11T14:18:43.861472Z",
     "start_time": "2020-01-11T14:18:43.854271Z"
    }
   },
   "outputs": [],
   "source": [
    "df = pd.DataFrame([[0.25, 0.25, \"N\"], [0.50, 0.50, \"N\"],\n",
    "              [0.75, 0.25, \"N\"], [0.75, 0.75, \"N\"], \n",
    "              [1.25, 0.25, \"N\"], [1.75, 0.25, \"N\"],\n",
    "              [2.00, 0.50, \"N\"], [2.25, 0.75, \"N\"],\n",
    "              [2.25, 0.25, \"N\"], [1.00, 0.50, \"P\"],\n",
    "              [1.25, 0.75, \"P\"], [1.50, 0.50, \"P\"],\n",
    "              [1.75, 0.75, \"P\"], [2.25, 0.50, \"P\"],\n",
    "              [2.50, 0.75, \"P\"],\n",
    "             ], columns=[\"A\", \"B\", \"class\"])"
   ]
  },
  {
   "cell_type": "code",
   "execution_count": 22,
   "metadata": {
    "ExecuteTime": {
     "end_time": "2020-01-11T14:18:44.038419Z",
     "start_time": "2020-01-11T14:18:44.029834Z"
    }
   },
   "outputs": [],
   "source": [
    "def get_color(cl):\n",
    "    if cl == \"N\":\n",
    "        return \"blue\"\n",
    "    else:\n",
    "        return \"red\"\n",
    "\n",
    "df[\"color\"] = df[\"class\"].apply(lambda x: get_color(x))"
   ]
  },
  {
   "cell_type": "code",
   "execution_count": 25,
   "metadata": {
    "ExecuteTime": {
     "end_time": "2020-01-11T14:18:56.770159Z",
     "start_time": "2020-01-11T14:18:56.584188Z"
    }
   },
   "outputs": [
    {
     "data": {
      "image/png": "[encoded data removed]",
      "text/plain": [
       "<Figure size 432x288 with 1 Axes>"
      ]
     },
     "metadata": {
      "needs_background": "light"
     },
     "output_type": "display_data"
    }
   ],
   "source": [
    "df.plot(kind=\"scatter\", x=\"A\", y=\"B\", c=df.color)\n",
    "plt.show()"
   ]
  },
  {
   "cell_type": "code",
   "execution_count": 37,
   "metadata": {
    "ExecuteTime": {
     "end_time": "2020-01-11T17:16:30.888603Z",
     "start_time": "2020-01-11T17:16:30.870633Z"
    }
   },
   "outputs": [],
   "source": [
    "a_var_p = df[df[\"class\"] == \"P\"].A.var()\n",
    "a_mean_p = df[df[\"class\"] == \"P\"].A.mean()\n",
    "\n",
    "b_var_p = df[df[\"class\"] == \"P\"].B.var()\n",
    "b_mean_p = df[df[\"class\"] == \"P\"].B.mean()\n",
    "\n",
    "a_var_n = df[df[\"class\"] == \"N\"].A.var()\n",
    "a_mean_n = df[df[\"class\"] == \"N\"].A.mean()\n",
    "\n",
    "b_var_n = df[df[\"class\"] == \"N\"].B.var()\n",
    "b_mean_n = df[df[\"class\"] == \"N\"].B.mean()"
   ]
  },
  {
   "cell_type": "code",
   "execution_count": 48,
   "metadata": {
    "ExecuteTime": {
     "end_time": "2020-01-11T17:21:30.809807Z",
     "start_time": "2020-01-11T17:21:30.805275Z"
    }
   },
   "outputs": [],
   "source": [
    "import math\n",
    "\n",
    "def normpdf(x, mean, sd):\n",
    "    var = float(sd)**2\n",
    "    denom = (2*math.pi*var)**.5\n",
    "    num = math.exp(-(float(x)-float(mean))**2/(2*var))\n",
    "    return num/denom"
   ]
  },
  {
   "cell_type": "code",
   "execution_count": 57,
   "metadata": {
    "ExecuteTime": {
     "end_time": "2020-01-11T17:24:19.941015Z",
     "start_time": "2020-01-11T17:24:19.935679Z"
    }
   },
   "outputs": [],
   "source": [
    "def predict(x1, x2):\n",
    "    p_prob = normpdf(x1, a_mean_p, np.sqrt(a_var_p)) * normpdf(x2, b_mean_p, np.sqrt(b_var_p))\n",
    "    n_prob = normpdf(x1, a_mean_n, np.sqrt(a_var_n)) * normpdf(x2, b_mean_n, np.sqrt(b_var_n))\n",
    "    if p_prob > n_prob:\n",
    "        return \"P\"\n",
    "    else:\n",
    "        return \"N\""
   ]
  },
  {
   "cell_type": "code",
   "execution_count": 59,
   "metadata": {
    "ExecuteTime": {
     "end_time": "2020-01-11T17:25:11.229850Z",
     "start_time": "2020-01-11T17:25:11.221814Z"
    }
   },
   "outputs": [],
   "source": [
    "df[\"pred\"] = df.apply(lambda x: predict(x.A, x.B), axis=1)"
   ]
  },
  {
   "cell_type": "code",
   "execution_count": 64,
   "metadata": {
    "ExecuteTime": {
     "end_time": "2020-01-11T17:36:29.514942Z",
     "start_time": "2020-01-11T17:36:29.511402Z"
    }
   },
   "outputs": [
    {
     "name": "stdout",
     "output_type": "stream",
     "text": [
      "accuracy: 0.7333333333333333\n"
     ]
    }
   ],
   "source": [
    "print(\"accuracy:\", sum(df[\"class\"] == df.pred) / len(df))"
   ]
  },
  {
   "cell_type": "code",
   "execution_count": 75,
   "metadata": {
    "ExecuteTime": {
     "end_time": "2020-01-11T18:05:29.553052Z",
     "start_time": "2020-01-11T18:05:29.539964Z"
    }
   },
   "outputs": [
    {
     "data": {
      "text/html": [
       "<div>\n",
       "<style scoped>\n",
       "    .dataframe tbody tr th:only-of-type {\n",
       "        vertical-align: middle;\n",
       "    }\n",
       "\n",
       "    .dataframe tbody tr th {\n",
       "        vertical-align: top;\n",
       "    }\n",
       "\n",
       "    .dataframe thead th {\n",
       "        text-align: right;\n",
       "    }\n",
       "</style>\n",
       "<table border=\"1\" class=\"dataframe\">\n",
       "  <thead>\n",
       "    <tr style=\"text-align: right;\">\n",
       "      <th></th>\n",
       "      <th>A</th>\n",
       "      <th>B</th>\n",
       "      <th>class</th>\n",
       "      <th>color</th>\n",
       "      <th>pred</th>\n",
       "    </tr>\n",
       "  </thead>\n",
       "  <tbody>\n",
       "    <tr>\n",
       "      <th>0</th>\n",
       "      <td>0.25</td>\n",
       "      <td>0.25</td>\n",
       "      <td>N</td>\n",
       "      <td>blue</td>\n",
       "      <td>N</td>\n",
       "    </tr>\n",
       "    <tr>\n",
       "      <th>1</th>\n",
       "      <td>0.50</td>\n",
       "      <td>0.50</td>\n",
       "      <td>N</td>\n",
       "      <td>blue</td>\n",
       "      <td>N</td>\n",
       "    </tr>\n",
       "    <tr>\n",
       "      <th>2</th>\n",
       "      <td>0.75</td>\n",
       "      <td>0.25</td>\n",
       "      <td>N</td>\n",
       "      <td>blue</td>\n",
       "      <td>N</td>\n",
       "    </tr>\n",
       "    <tr>\n",
       "      <th>3</th>\n",
       "      <td>0.75</td>\n",
       "      <td>0.75</td>\n",
       "      <td>N</td>\n",
       "      <td>blue</td>\n",
       "      <td>P</td>\n",
       "    </tr>\n",
       "    <tr>\n",
       "      <th>4</th>\n",
       "      <td>1.25</td>\n",
       "      <td>0.25</td>\n",
       "      <td>N</td>\n",
       "      <td>blue</td>\n",
       "      <td>N</td>\n",
       "    </tr>\n",
       "    <tr>\n",
       "      <th>5</th>\n",
       "      <td>1.75</td>\n",
       "      <td>0.25</td>\n",
       "      <td>N</td>\n",
       "      <td>blue</td>\n",
       "      <td>N</td>\n",
       "    </tr>\n",
       "    <tr>\n",
       "      <th>6</th>\n",
       "      <td>2.00</td>\n",
       "      <td>0.50</td>\n",
       "      <td>N</td>\n",
       "      <td>blue</td>\n",
       "      <td>P</td>\n",
       "    </tr>\n",
       "    <tr>\n",
       "      <th>7</th>\n",
       "      <td>2.25</td>\n",
       "      <td>0.75</td>\n",
       "      <td>N</td>\n",
       "      <td>blue</td>\n",
       "      <td>P</td>\n",
       "    </tr>\n",
       "    <tr>\n",
       "      <th>8</th>\n",
       "      <td>2.25</td>\n",
       "      <td>0.25</td>\n",
       "      <td>N</td>\n",
       "      <td>blue</td>\n",
       "      <td>N</td>\n",
       "    </tr>\n",
       "    <tr>\n",
       "      <th>9</th>\n",
       "      <td>1.00</td>\n",
       "      <td>0.50</td>\n",
       "      <td>P</td>\n",
       "      <td>red</td>\n",
       "      <td>N</td>\n",
       "    </tr>\n",
       "    <tr>\n",
       "      <th>10</th>\n",
       "      <td>1.25</td>\n",
       "      <td>0.75</td>\n",
       "      <td>P</td>\n",
       "      <td>red</td>\n",
       "      <td>P</td>\n",
       "    </tr>\n",
       "    <tr>\n",
       "      <th>11</th>\n",
       "      <td>1.50</td>\n",
       "      <td>0.50</td>\n",
       "      <td>P</td>\n",
       "      <td>red</td>\n",
       "      <td>P</td>\n",
       "    </tr>\n",
       "    <tr>\n",
       "      <th>12</th>\n",
       "      <td>1.75</td>\n",
       "      <td>0.75</td>\n",
       "      <td>P</td>\n",
       "      <td>red</td>\n",
       "      <td>P</td>\n",
       "    </tr>\n",
       "    <tr>\n",
       "      <th>13</th>\n",
       "      <td>2.25</td>\n",
       "      <td>0.50</td>\n",
       "      <td>P</td>\n",
       "      <td>red</td>\n",
       "      <td>P</td>\n",
       "    </tr>\n",
       "    <tr>\n",
       "      <th>14</th>\n",
       "      <td>2.50</td>\n",
       "      <td>0.75</td>\n",
       "      <td>P</td>\n",
       "      <td>red</td>\n",
       "      <td>P</td>\n",
       "    </tr>\n",
       "  </tbody>\n",
       "</table>\n",
       "</div>"
      ],
      "text/plain": [
       "       A     B class color pred\n",
       "0   0.25  0.25     N  blue    N\n",
       "1   0.50  0.50     N  blue    N\n",
       "2   0.75  0.25     N  blue    N\n",
       "3   0.75  0.75     N  blue    P\n",
       "4   1.25  0.25     N  blue    N\n",
       "5   1.75  0.25     N  blue    N\n",
       "6   2.00  0.50     N  blue    P\n",
       "7   2.25  0.75     N  blue    P\n",
       "8   2.25  0.25     N  blue    N\n",
       "9   1.00  0.50     P   red    N\n",
       "10  1.25  0.75     P   red    P\n",
       "11  1.50  0.50     P   red    P\n",
       "12  1.75  0.75     P   red    P\n",
       "13  2.25  0.50     P   red    P\n",
       "14  2.50  0.75     P   red    P"
      ]
     },
     "execution_count": 75,
     "metadata": {},
     "output_type": "execute_result"
    }
   ],
   "source": [
    "df"
   ]
  }
 ],
 "metadata": {
  "kernelspec": {
   "display_name": "Python 3",
   "language": "python",
   "name": "python3"
  },
  "language_info": {
   "codemirror_mode": {
    "name": "ipython",
    "version": 3
   },
   "file_extension": ".py",
   "mimetype": "text/x-python",
   "name": "python",
   "nbconvert_exporter": "python",
   "pygments_lexer": "ipython3",
   "version": "3.6.1"
  }
 },
 "nbformat": 4,
 "nbformat_minor": 2
}
