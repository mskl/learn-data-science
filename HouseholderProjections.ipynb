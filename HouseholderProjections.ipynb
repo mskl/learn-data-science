{
 "cells": [
  {
   "cell_type": "code",
   "execution_count": 362,
   "metadata": {
    "ExecuteTime": {
     "end_time": "2020-06-21T17:12:04.609390Z",
     "start_time": "2020-06-21T17:12:04.606483Z"
    }
   },
   "outputs": [],
   "source": [
    "import numpy as np"
   ]
  },
  {
   "cell_type": "code",
   "execution_count": 389,
   "metadata": {
    "ExecuteTime": {
     "end_time": "2020-06-21T17:21:15.885946Z",
     "start_time": "2020-06-21T17:21:15.882612Z"
    }
   },
   "outputs": [],
   "source": [
    "A = np.mat([\n",
    "    [3, 4],\n",
    "    [4, 0]\n",
    "])"
   ]
  },
  {
   "cell_type": "code",
   "execution_count": 390,
   "metadata": {
    "ExecuteTime": {
     "end_time": "2020-06-21T17:21:16.381660Z",
     "start_time": "2020-06-21T17:21:16.377955Z"
    }
   },
   "outputs": [],
   "source": [
    "E = np.identity(len(A))"
   ]
  },
  {
   "cell_type": "code",
   "execution_count": 391,
   "metadata": {
    "ExecuteTime": {
     "end_time": "2020-06-21T17:21:16.557208Z",
     "start_time": "2020-06-21T17:21:16.553995Z"
    }
   },
   "outputs": [],
   "source": [
    "a0 = A[:, 0]"
   ]
  },
  {
   "cell_type": "code",
   "execution_count": 392,
   "metadata": {
    "ExecuteTime": {
     "end_time": "2020-06-21T17:21:16.726724Z",
     "start_time": "2020-06-21T17:21:16.722962Z"
    }
   },
   "outputs": [],
   "source": [
    "alpha = np.linalg.norm(a0, 2)"
   ]
  },
  {
   "cell_type": "code",
   "execution_count": 393,
   "metadata": {
    "ExecuteTime": {
     "end_time": "2020-06-21T17:21:16.894207Z",
     "start_time": "2020-06-21T17:21:16.890280Z"
    }
   },
   "outputs": [],
   "source": [
    "v0 = a0 + alpha*np.eye(len(a0), 1)"
   ]
  },
  {
   "cell_type": "code",
   "execution_count": 394,
   "metadata": {
    "ExecuteTime": {
     "end_time": "2020-06-21T17:21:17.069654Z",
     "start_time": "2020-06-21T17:21:17.066295Z"
    }
   },
   "outputs": [],
   "source": [
    "x = alpha*np.eye(len(a0), 1)"
   ]
  },
  {
   "cell_type": "code",
   "execution_count": 395,
   "metadata": {
    "ExecuteTime": {
     "end_time": "2020-06-21T17:21:17.374176Z",
     "start_time": "2020-06-21T17:21:17.369571Z"
    }
   },
   "outputs": [
    {
     "data": {
      "text/plain": [
       "array([[5.],\n",
       "       [0.]])"
      ]
     },
     "execution_count": 395,
     "metadata": {},
     "output_type": "execute_result"
    }
   ],
   "source": [
    "x"
   ]
  },
  {
   "cell_type": "code",
   "execution_count": 396,
   "metadata": {
    "ExecuteTime": {
     "end_time": "2020-06-21T17:21:17.788892Z",
     "start_time": "2020-06-21T17:21:17.785601Z"
    }
   },
   "outputs": [],
   "source": [
    "u = a0 - x"
   ]
  },
  {
   "cell_type": "code",
   "execution_count": 398,
   "metadata": {
    "ExecuteTime": {
     "end_time": "2020-06-21T17:21:28.591154Z",
     "start_time": "2020-06-21T17:21:28.586316Z"
    }
   },
   "outputs": [
    {
     "data": {
      "text/plain": [
       "matrix([[-2.],\n",
       "        [ 4.]])"
      ]
     },
     "execution_count": 398,
     "metadata": {},
     "output_type": "execute_result"
    }
   ],
   "source": [
    "u"
   ]
  },
  {
   "cell_type": "code",
   "execution_count": 397,
   "metadata": {
    "ExecuteTime": {
     "end_time": "2020-06-21T17:21:18.488231Z",
     "start_time": "2020-06-21T17:21:18.482349Z"
    }
   },
   "outputs": [
    {
     "data": {
      "text/plain": [
       "matrix([[5. , 2.4],\n",
       "        [0. , 3.2]])"
      ]
     },
     "execution_count": 397,
     "metadata": {},
     "output_type": "execute_result"
    }
   ],
   "source": [
    "Q = E - 2*((u*u.T)/(u.T*u))\n",
    "Q*A"
   ]
  },
  {
   "cell_type": "code",
   "execution_count": 386,
   "metadata": {
    "ExecuteTime": {
     "end_time": "2020-06-21T17:20:48.294820Z",
     "start_time": "2020-06-21T17:20:48.291440Z"
    }
   },
   "outputs": [],
   "source": [
    "un = u / np.linalg.norm(u, 2)"
   ]
  },
  {
   "cell_type": "code",
   "execution_count": 387,
   "metadata": {
    "ExecuteTime": {
     "end_time": "2020-06-21T17:20:48.620415Z",
     "start_time": "2020-06-21T17:20:48.617041Z"
    }
   },
   "outputs": [],
   "source": [
    "Q = (E - 2*un*un.T)"
   ]
  },
  {
   "cell_type": "code",
   "execution_count": 388,
   "metadata": {
    "ExecuteTime": {
     "end_time": "2020-06-21T17:20:48.934905Z",
     "start_time": "2020-06-21T17:20:48.930047Z"
    }
   },
   "outputs": [
    {
     "data": {
      "text/plain": [
       "matrix([[5.0000000e+00, 2.6000000e+00],\n",
       "        [4.4408921e-16, 1.8000000e+00]])"
      ]
     },
     "execution_count": 388,
     "metadata": {},
     "output_type": "execute_result"
    }
   ],
   "source": [
    "Q*A"
   ]
  },
  {
   "cell_type": "code",
   "execution_count": null,
   "metadata": {},
   "outputs": [],
   "source": []
  }
 ],
 "metadata": {
  "kernelspec": {
   "display_name": "Python 3",
   "language": "python",
   "name": "python3"
  },
  "language_info": {
   "codemirror_mode": {
    "name": "ipython",
    "version": 3
   },
   "file_extension": ".py",
   "mimetype": "text/x-python",
   "name": "python",
   "nbconvert_exporter": "python",
   "pygments_lexer": "ipython3",
   "version": "3.7.7"
  }
 },
 "nbformat": 4,
 "nbformat_minor": 4
}
