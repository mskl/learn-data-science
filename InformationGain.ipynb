{
 "cells": [
  {
   "cell_type": "code",
   "execution_count": 10,
   "metadata": {
    "ExecuteTime": {
     "end_time": "2019-05-31T22:20:20.160317Z",
     "start_time": "2019-05-31T22:20:20.157432Z"
    }
   },
   "outputs": [],
   "source": [
    "import numpy as np\n",
    "import math"
   ]
  },
  {
   "cell_type": "code",
   "execution_count": 73,
   "metadata": {
    "ExecuteTime": {
     "end_time": "2019-05-31T22:40:49.611313Z",
     "start_time": "2019-05-31T22:40:49.599751Z"
    }
   },
   "outputs": [],
   "source": [
    "def get_entropy(d, parent=None):\n",
    "    if 0 in d and 1 in d:\n",
    "        zeros, ones = np.bincount(d)\n",
    "    elif 0 in d:\n",
    "        zeros = len(d)\n",
    "        ones = 0\n",
    "    elif 1 in d:\n",
    "        zeros = 0\n",
    "        ones = len(d)\n",
    "    \n",
    "    p_z = zeros / (zeros + ones)\n",
    "    p_o = ones / (zeros + ones)\n",
    "    \n",
    "    mult = 1\n",
    "    if parent is not None:\n",
    "        mult = len(d) / len(parent)\n",
    "        \n",
    "    if 0 in d and 1 in d:\n",
    "        return -mult*(p_z*math.log2(p_z) + p_o*math.log2(p_o))\n",
    "    elif 0 in d:\n",
    "        return -mult*(p_z*math.log2(p_z))\n",
    "    elif 1 in d:\n",
    "        return -mult*(p_o*math.log2(p_o))"
   ]
  },
  {
   "cell_type": "code",
   "execution_count": 74,
   "metadata": {
    "ExecuteTime": {
     "end_time": "2019-05-31T22:40:50.378030Z",
     "start_time": "2019-05-31T22:40:50.374624Z"
    }
   },
   "outputs": [],
   "source": [
    "def get_information_gain(d, xi):\n",
    "    return get_entropy(d) - (get_entropy(d[:xi], d) + get_entropy(d[xi:], d))"
   ]
  },
  {
   "cell_type": "code",
   "execution_count": 75,
   "metadata": {
    "ExecuteTime": {
     "end_time": "2019-05-31T22:40:50.751535Z",
     "start_time": "2019-05-31T22:40:50.748868Z"
    }
   },
   "outputs": [],
   "source": [
    "D = [0, 0, 1, 0, 1, 1, 1, 1]"
   ]
  },
  {
   "cell_type": "code",
   "execution_count": 82,
   "metadata": {
    "ExecuteTime": {
     "end_time": "2019-05-31T22:43:07.952825Z",
     "start_time": "2019-05-31T22:43:07.946403Z"
    }
   },
   "outputs": [
    {
     "name": "stdout",
     "output_type": "stream",
     "text": [
      "1 0.19920350542916287\n",
      "2 0.46691718668869947\n",
      "3 0.15886800584993\n",
      "4 0.5487949406953987\n",
      "5 0.34758988139079716\n",
      "6 0.20443400292496505\n",
      "7 0.09235938389499498\n",
      "max_gain: (4, 0.5487949406953987)\n"
     ]
    }
   ],
   "source": [
    "max_gain = (0, 0)\n",
    "for i in range(1, len(D)):\n",
    "    ig = get_information_gain(D, i)\n",
    "    print(i, ig)\n",
    "    if max_gain[1] < ig:\n",
    "        max_gain = (i, ig)\n",
    "print(\"max_gain:\", max_gain)"
   ]
  },
  {
   "cell_type": "code",
   "execution_count": null,
   "metadata": {},
   "outputs": [],
   "source": []
  }
 ],
 "metadata": {
  "kernelspec": {
   "display_name": "Python 3",
   "language": "python",
   "name": "python3"
  },
  "language_info": {
   "codemirror_mode": {
    "name": "ipython",
    "version": 3
   },
   "file_extension": ".py",
   "mimetype": "text/x-python",
   "name": "python",
   "nbconvert_exporter": "python",
   "pygments_lexer": "ipython3",
   "version": "3.6.1"
  }
 },
 "nbformat": 4,
 "nbformat_minor": 2
}
